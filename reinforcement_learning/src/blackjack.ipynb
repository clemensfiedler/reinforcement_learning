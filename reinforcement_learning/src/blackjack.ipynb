{
 "cells": [
  {
   "cell_type": "code",
   "execution_count": null,
   "metadata": {},
   "outputs": [],
   "source": [
    "import gymnasium as gym\n",
    "\n",
    "import numpy as np\n",
    "import polars as pl\n",
    "\n",
    "from collections import defaultdict\n",
    "\n",
    "import matplotlib.pyplot as plt\n",
    "import plotly.graph_objects as go"
   ]
  },
  {
   "cell_type": "code",
   "execution_count": null,
   "metadata": {},
   "outputs": [],
   "source": [
    "env = gym.make(\"Blackjack-v1\", natural=False, sab=False)"
   ]
  },
  {
   "cell_type": "code",
   "execution_count": null,
   "metadata": {},
   "outputs": [],
   "source": [
    "class BlackjackAgent():\n",
    "    def __init__(self, threshold, strategy):\n",
    "        self.threshold = threshold\n",
    "        self.strategy = strategy\n",
    "        self.policy = defaultdict(lambda: 0)\n",
    "\n",
    "    def get_action(self, state):\n",
    "\n",
    "        if self.strategy == \"random\":\n",
    "            return np.random.choice([0, 1])\n",
    "\n",
    "        if self.strategy == \"threshold\":\n",
    "            if state[0] < self.threshold:\n",
    "                return 1\n",
    "            else:\n",
    "                return 0\n",
    "\n",
    "        if self.strategy == \"learning-ES\":\n",
    "            return 1\n",
    "\n",
    "    def update(self, state, action, reward, next_state):\n",
    "        pass\n"
   ]
  },
  {
   "cell_type": "code",
   "execution_count": null,
   "metadata": {},
   "outputs": [],
   "source": [
    "def first_visit_mc_prediction(episodes):\n",
    "    gamma = 1\n",
    "    values_by_state = defaultdict(list)\n",
    "\n",
    "    for sequence in episodes:\n",
    "        G = 0\n",
    "        states_visited = []\n",
    "\n",
    "        for step in sequence[::-1]:\n",
    "            state, action, reward = step\n",
    "            G = gamma * G + reward\n",
    "            if state not in states_visited:\n",
    "                values_by_state[state].append(G)\n",
    "\n",
    "\n",
    "    value_function = {}\n",
    "    for state, values in values_by_state.items():\n",
    "        value_function[state] = np.mean(values)\n",
    "\n",
    "    return value_function"
   ]
  },
  {
   "cell_type": "code",
   "execution_count": null,
   "metadata": {},
   "outputs": [],
   "source": [
    "def convert_value_function_to_df(value_function):\n",
    "\n",
    "    value_function = pl.DataFrame(\n",
    "        [\n",
    "            {\"player\": k[0], \"dealer\": k[1], \"value\": v}\n",
    "            for k, v in value_function.items()\n",
    "        ]\n",
    "    ).sort(\"player\", \"dealer\")\n",
    "\n",
    "    return value_function\n"
   ]
  },
  {
   "cell_type": "code",
   "execution_count": null,
   "metadata": {},
   "outputs": [],
   "source": [
    "def generate_episodes(agent, n_episodes=100_000):\n",
    "    episodes = []\n",
    "\n",
    "    for _ in range(n_episodes):\n",
    "        state, _ = env.reset()\n",
    "        terminated = False\n",
    "        sequence = []\n",
    "\n",
    "        while not terminated:\n",
    "            current_state = state[:2]\n",
    "\n",
    "            # determine next action and execute it and update value function\n",
    "            action = agent.get_action(state)\n",
    "            state, reward, terminated, truncated, info = env.step(action)\n",
    "            agent.update(state, action, reward, state)\n",
    "\n",
    "            sequence.append((current_state, action, reward))\n",
    "\n",
    "        episodes.append(sequence)\n",
    "\n",
    "    return episodes"
   ]
  },
  {
   "cell_type": "code",
   "execution_count": null,
   "metadata": {},
   "outputs": [],
   "source": [
    "def plot_surface(value_function, title=\"\"):\n",
    "\n",
    "    z = (\n",
    "        value_function.pivot(index=\"player\", on=\"dealer\", values=\"value\")\n",
    "        .drop(\"player\")\n",
    "        .to_numpy()\n",
    "    )\n",
    "\n",
    "    x = np.arange(1, 11)\n",
    "    y = np.arange(4, 22)\n",
    "\n",
    "    fig = go.Figure(data=[go.Surface(x=x, y=y, z=z)])\n",
    "\n",
    "\n",
    "    fig.update_layout(\n",
    "        title=title,\n",
    "        width=500,\n",
    "        height=500,\n",
    "        margin=dict(l=65, r=50, b=65, t=90),\n",
    "        scene=dict(\n",
    "            xaxis_title=\"Dealer Showing\",\n",
    "            yaxis_title=\"Player Sum\",\n",
    "            zaxis_title=\"Avg. Reward\",\n",
    "        ),\n",
    "    )\n",
    "    fig.show()"
   ]
  },
  {
   "cell_type": "code",
   "execution_count": null,
   "metadata": {},
   "outputs": [],
   "source": [
    "episodes = generate_episodes(BlackjackAgent(threshold=17, strategy=\"threshold\"))\n",
    "value_function_raw = first_visit_mc_prediction(episodes)\n",
    "value_function = convert_value_function_to_df(value_function_raw)\n",
    "plot_surface(value_function, title=\"First Visit MC Prediction, stay on 17\")"
   ]
  },
  {
   "cell_type": "code",
   "execution_count": null,
   "metadata": {},
   "outputs": [],
   "source": [
    "episodes = generate_episodes(BlackjackAgent(threshold=21, strategy=\"threshold\"))\n",
    "value_function_raw = first_visit_mc_prediction(episodes)\n",
    "value_function = convert_value_function_to_df(value_function_raw)\n",
    "plot_surface(value_function, title=\"First Visit MC Prediction, stay on 20\")\n"
   ]
  },
  {
   "cell_type": "code",
   "execution_count": null,
   "metadata": {},
   "outputs": [],
   "source": [
    "episodes = generate_episodes(\n",
    "    BlackjackAgent(threshold=17, strategy=\"random\"), n_episodes=100_000\n",
    ")\n",
    "value_function_raw = first_visit_mc_prediction(episodes)\n",
    "value_function = convert_value_function_to_df(value_function_raw)\n",
    "plot_surface(value_function, title=\"First Visit MC Prediction, stay on 17\")\n"
   ]
  },
  {
   "cell_type": "markdown",
   "metadata": {},
   "source": [
    "## MC Control"
   ]
  },
  {
   "cell_type": "markdown",
   "metadata": {},
   "source": [
    "### Example 5.4: Off-policy Estimation of a Blackjack State Value"
   ]
  },
  {
   "cell_type": "code",
   "execution_count": null,
   "metadata": {},
   "outputs": [],
   "source": [
    "def enumerate_events(episodes):\n",
    "    # calculate importance sampling ratio\n",
    "    occurrences = []\n",
    "\n",
    "    for episode_id, sequence in enumerate(episodes):\n",
    "        for time, step in enumerate(sequence):\n",
    "            state, action, reward = step\n",
    "\n",
    "            occurrences.append((episode_id, time, state[0], state[1], action, reward))\n",
    "\n",
    "    occurrences = pl.DataFrame(\n",
    "        occurrences, orient=\"row\", schema=[\"episode\", \"time\", \"player\", \"dealer\", \"action\", \"reward\"]\n",
    "    )\n",
    "    return occurrences"
   ]
  },
  {
   "cell_type": "code",
   "execution_count": null,
   "metadata": {},
   "outputs": [],
   "source": [
    "def get_action_probabilities(episodes):\n",
    "    action_counts = (\n",
    "        episodes.group_by([\"player\", \"dealer\", \"action\"])\n",
    "        .agg(pl.len().alias(\"count\"))\n",
    "        .with_columns(\n",
    "            pl.sum(\"count\").over([\"player\", \"dealer\"]).alias(\"total\"),\n",
    "        )\n",
    "        .with_columns((pl.col(\"count\") / pl.col(\"total\")).alias(\"probability\"))\n",
    "        .select(\"player\", \"dealer\", \"action\", \"probability\")\n",
    "    )\n",
    "\n",
    "    return action_counts"
   ]
  },
  {
   "cell_type": "code",
   "execution_count": null,
   "metadata": {},
   "outputs": [],
   "source": [
    "episodes_random = generate_episodes(BlackjackAgent(threshold=17, strategy=\"random\"))\n",
    "episodes_threshold = generate_episodes(\n",
    "    BlackjackAgent(threshold=17, strategy=\"threshold\")\n",
    ")\n",
    "\n",
    "episodes_random_df = enumerate_events(episodes_random)\n",
    "episodes_threshold_df = enumerate_events(episodes_threshold)\n",
    "\n",
    "probabilties_random = get_action_probabilities(episodes_random_df)\n",
    "probabilties_threshold = get_action_probabilities(episodes_threshold_df)\n"
   ]
  },
  {
   "cell_type": "code",
   "execution_count": null,
   "metadata": {},
   "outputs": [],
   "source": [
    "isr_table = (\n",
    "    probabilties_random.join(\n",
    "        probabilties_threshold,\n",
    "        on=[\"player\", \"dealer\", \"action\"],\n",
    "        suffix=\"_policy\",\n",
    "        how=\"full\",\n",
    "    )\n",
    "    .drop([\"player_policy\", \"dealer_policy\", \"action_policy\"])\n",
    "    .with_columns(\n",
    "        (pl.col(\"probability_policy\") / pl.col(\"probability\"))\n",
    "        .fill_null(0)\n",
    "        .alias(\"importance_sampling_ration\")\n",
    "    )\n",
    ")\n",
    "\n",
    "assert (\n",
    "    isr_table.null_count()[\"probability\"][0] == 0\n",
    "), \"control policy must have coverage\"\n",
    "\n",
    "# importance_sampling_ration corresponds to pi(A/S) / b(A/S) in the book\n",
    "isr_table\n"
   ]
  },
  {
   "cell_type": "code",
   "execution_count": null,
   "metadata": {},
   "outputs": [],
   "source": [
    "episodes_random_df_with_isr = episodes_random_df.join(\n",
    "    isr_table.drop(\"probability\", \"probability_policy\"),\n",
    "    on=[\"player\", \"dealer\", \"action\"],\n",
    "    how=\"left\",\n",
    ")\n",
    "\n",
    "results = []\n",
    "for episode_id, episode in episodes_random_df_with_isr.group_by(\"episode\"):\n",
    "    episode_with_isr = episode.sort(\"time\", descending=True)\n",
    "\n",
    "    for t in range(0, len(episode_with_isr)):\n",
    "        Gt = episode_with_isr[t][\"reward\"][0]\n",
    "        rho_t_T = episode_with_isr[:t+1][\"importance_sampling_ration\"].sum()\n",
    "        player = episode_with_isr[t][\"player\"][0]\n",
    "        dealer = episode_with_isr[t][\"dealer\"][0]\n",
    "\n",
    "        results.append((episode_id[0], player, dealer, Gt, rho_t_T))\n",
    "\n",
    "results_df = pl.DataFrame(\n",
    "    results, orient=\"row\", schema=[\"episode_id\", \"player\", \"dealer\", \"reward\", \"rho_t_T\"]\n",
    ")\n",
    "\n",
    "results_df"
   ]
  },
  {
   "cell_type": "code",
   "execution_count": null,
   "metadata": {},
   "outputs": [],
   "source": [
    "state_values = (\n",
    "    results_df.with_columns(\n",
    "        (pl.col(\"reward\") * pl.col(\"rho_t_T\")).alias(\"reward_contribution\")\n",
    "    )\n",
    "    .group_by(\"player\", \"dealer\")\n",
    "    .agg(\n",
    "        pl.count(\"reward\").alias(\"visit_count_state\"),\n",
    "        pl.sum(\"rho_t_T\").alias(\"weighted_denominator\"),\n",
    "        pl.sum(\"reward_contribution\").alias(\"reward\"),\n",
    "    )\n",
    "    .with_columns(\n",
    "        (pl.col(\"reward\") / pl.col(\"visit_count_state\")).alias(\"value_is\"),\n",
    "        (pl.col(\"reward\") / pl.col(\"weighted_denominator\")).alias(\"value_wis\"),\n",
    "    )\n",
    "    .sort(\"player\", \"dealer\")\n",
    ")\n",
    "\n",
    "state_values"
   ]
  },
  {
   "cell_type": "code",
   "execution_count": null,
   "metadata": {},
   "outputs": [],
   "source": [
    "def plot_surface_from_df(df, x_col, y_col, z_col, title=\"\"):\n",
    "    z = (\n",
    "        df.pivot(index=x_col, on=y_col, values=z_col)\n",
    "        .drop(\"player\")\n",
    "        .to_numpy()\n",
    "    )\n",
    "\n",
    "    x = np.arange(1, 11)\n",
    "    y = np.arange(4, 22)\n",
    "\n",
    "    fig = go.Figure(data=[go.Surface(x=x, y=y, z=z)])\n",
    "\n",
    "    fig.update_layout(\n",
    "        title=title,\n",
    "        width=500,\n",
    "        height=500,\n",
    "        margin=dict(l=65, r=50, b=65, t=90),\n",
    "        scene=dict(\n",
    "            xaxis_title=x_col,\n",
    "            yaxis_title=y_col,\n",
    "            zaxis_title=z_col,\n",
    "        ),\n",
    "    )\n",
    "    fig.show()\n"
   ]
  },
  {
   "cell_type": "code",
   "execution_count": null,
   "metadata": {},
   "outputs": [],
   "source": [
    "x_col = \"player\"\n",
    "y_col = \"dealer\"\n",
    "z_col = \"value_is\"\n",
    "\n",
    "plot_surface_from_df(\n",
    "    state_values, x_col, y_col, \"value_is\", title=\"Importance Sampling\"\n",
    ")\n",
    "\n",
    "plot_surface_from_df(\n",
    "    state_values, x_col, y_col, \"value_wis\", title=\"Weighted Importance Sampling\"\n",
    ")"
   ]
  },
  {
   "cell_type": "markdown",
   "metadata": {},
   "source": []
  },
  {
   "cell_type": "code",
   "execution_count": null,
   "metadata": {},
   "outputs": [],
   "source": [
    "import plotly.express as px"
   ]
  },
  {
   "cell_type": "code",
   "execution_count": null,
   "metadata": {},
   "outputs": [],
   "source": [
    "px.line(\n",
    "    state_values.with_columns((pl.col(\"value_is\") - pl.col(\"value_wis\")).alias(\"delta\"))\n",
    "    .group_by(pl.col(\"delta\").round(2))\n",
    "    .len()\n",
    "    .sort(\"delta\"),\n",
    "    x=\"delta\",\n",
    "    y=\"len\",\n",
    ")\n"
   ]
  },
  {
   "cell_type": "code",
   "execution_count": null,
   "metadata": {},
   "outputs": [],
   "source": []
  }
 ],
 "metadata": {
  "kernelspec": {
   "display_name": "reinforcement-learning-PbRn6gH6-py3.12",
   "language": "python",
   "name": "python3"
  },
  "language_info": {
   "codemirror_mode": {
    "name": "ipython",
    "version": 3
   },
   "file_extension": ".py",
   "mimetype": "text/x-python",
   "name": "python",
   "nbconvert_exporter": "python",
   "pygments_lexer": "ipython3",
   "version": "3.12.5"
  }
 },
 "nbformat": 4,
 "nbformat_minor": 2
}
