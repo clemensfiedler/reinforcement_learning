{
 "cells": [
  {
   "cell_type": "code",
   "execution_count": 1,
   "metadata": {},
   "outputs": [],
   "source": [
    "import gymnasium as gym\n",
    "\n",
    "import numpy as np\n",
    "import polars as pl\n",
    "\n",
    "from collections import defaultdict\n",
    "\n",
    "import matplotlib.pyplot as plt\n",
    "import plotly.graph_objects as go"
   ]
  },
  {
   "cell_type": "code",
   "execution_count": 2,
   "metadata": {},
   "outputs": [],
   "source": [
    "env = gym.make(\"Blackjack-v1\", natural=False, sab=False)"
   ]
  },
  {
   "cell_type": "code",
   "execution_count": 3,
   "metadata": {},
   "outputs": [],
   "source": [
    "class BlackjackAgent():\n",
    "    def __init__(self, threshold, strategy):\n",
    "        self.threshold = threshold\n",
    "        self.strategy = strategy\n",
    "        self.policy = defaultdict(lambda: 0)\n",
    "\n",
    "    def get_action(self, state):\n",
    "\n",
    "        if self.strategy == \"random\":\n",
    "            return np.random.choice([0, 1])\n",
    "\n",
    "        if self.strategy == \"threshold\":\n",
    "            if state[0] < self.threshold:\n",
    "                return 1\n",
    "            else:\n",
    "                return 0\n",
    "\n",
    "        if self.strategy == \"learning-ES\":\n",
    "            return 1\n",
    "\n",
    "    def update(self, state, action, reward, next_state):\n",
    "        pass\n"
   ]
  },
  {
   "cell_type": "code",
   "execution_count": 4,
   "metadata": {},
   "outputs": [],
   "source": [
    "def first_visit_mc_prediction(episodes):\n",
    "    gamma = 1\n",
    "    values_by_state = defaultdict(list)\n",
    "\n",
    "    for sequence in episodes:\n",
    "        G = 0\n",
    "        states_visited = []\n",
    "\n",
    "        for step in sequence[::-1]:\n",
    "            state, action, reward = step\n",
    "            G = gamma * G + reward\n",
    "            if state not in states_visited:\n",
    "                values_by_state[state].append(G)\n",
    "\n",
    "\n",
    "    value_function = {}\n",
    "    for state, values in values_by_state.items():\n",
    "        value_function[state] = np.mean(values)\n",
    "\n",
    "    return value_function"
   ]
  },
  {
   "cell_type": "code",
   "execution_count": 5,
   "metadata": {},
   "outputs": [],
   "source": [
    "def convert_value_function_to_df(value_function):\n",
    "\n",
    "    value_function = pl.DataFrame(\n",
    "        [\n",
    "            {\"player\": k[0], \"dealer\": k[1], \"value\": v}\n",
    "            for k, v in value_function.items()\n",
    "        ]\n",
    "    ).sort(\"player\", \"dealer\")\n",
    "\n",
    "    return value_function\n"
   ]
  },
  {
   "cell_type": "code",
   "execution_count": 6,
   "metadata": {},
   "outputs": [],
   "source": [
    "def generate_episodes(agent, n_episodes=100_000):\n",
    "    episodes = []\n",
    "\n",
    "    for _ in range(n_episodes):\n",
    "        state, _ = env.reset()\n",
    "        terminated = False\n",
    "        sequence = []\n",
    "\n",
    "        while not terminated:\n",
    "            current_state = state[:2]\n",
    "\n",
    "            # determine next action and execute it and update value function\n",
    "            action = agent.get_action(state)\n",
    "            state, reward, terminated, truncated, info = env.step(action)\n",
    "            agent.update(state, action, reward, state)\n",
    "\n",
    "            sequence.append((current_state, action, reward))\n",
    "\n",
    "        episodes.append(sequence)\n",
    "\n",
    "    return episodes"
   ]
  },
  {
   "cell_type": "code",
   "execution_count": 7,
   "metadata": {},
   "outputs": [],
   "source": [
    "def plot_surface(value_function, title=\"\"):\n",
    "\n",
    "    z = (\n",
    "        value_function.pivot(index=\"player\", on=\"dealer\", values=\"value\")\n",
    "        .drop(\"player\")\n",
    "        .to_numpy()\n",
    "    )\n",
    "\n",
    "    x = np.arange(1, 11)\n",
    "    y = np.arange(4, 22)\n",
    "\n",
    "    fig = go.Figure(data=[go.Surface(x=x, y=y, z=z)])\n",
    "\n",
    "\n",
    "    fig.update_layout(\n",
    "        title=title,\n",
    "        width=500,\n",
    "        height=500,\n",
    "        margin=dict(l=65, r=50, b=65, t=90),\n",
    "        scene=dict(\n",
    "            xaxis_title=\"Dealer Showing\",\n",
    "            yaxis_title=\"Player Sum\",\n",
    "            zaxis_title=\"Avg. Reward\",\n",
    "        ),\n",
    "    )\n",
    "    fig.show()"
   ]
  },
  {
   "cell_type": "code",
   "execution_count": 8,
   "metadata": {},
   "outputs": [
    {
     "data": {
      "application/vnd.plotly.v1+json": {
       "config": {
        "plotlyServerURL": "https://plot.ly"
       },
       "data": [
        {
         "type": "surface",
         "x": [
          1,
          2,
          3,
          4,
          5,
          6,
          7,
          8,
          9,
          10
         ],
         "y": [
          4,
          5,
          6,
          7,
          8,
          9,
          10,
          11,
          12,
          13,
          14,
          15,
          16,
          17,
          18,
          19,
          20,
          21
         ],
         "z": [
          [
           -0.40476190476190477,
           -0.23076923076923078,
           0.12903225806451613,
           -0.2127659574468085,
           -0.35135135135135137,
           0.03333333333333333,
           0.022222222222222223,
           0,
           -0.11764705882352941,
           -0.40609137055837563
          ],
          [
           -0.47058823529411764,
           -0.3291139240506329,
           -0.25882352941176473,
           -0.14563106796116504,
           -0.14285714285714285,
           -0.17,
           -0.010416666666666666,
           -0.2222222222222222,
           -0.3055555555555556,
           -0.3137254901960784
          ],
          [
           -0.5786163522012578,
           -0.34459459459459457,
           -0.192,
           -0.17857142857142858,
           -0.2549019607843137,
           -0.13380281690140844,
           -0.296875,
           -0.23125,
           -0.2847222222222222,
           -0.4083044982698962
          ],
          [
           -0.41237113402061853,
           -0.0975609756097561,
           -0.12807881773399016,
           -0.17894736842105263,
           -0.18333333333333332,
           0.01694915254237288,
           -0.010752688172043012,
           -0.1932367149758454,
           -0.3089005235602094,
           -0.38980891719745225
          ],
          [
           -0.40756302521008403,
           -0.12017167381974249,
           -0.11023622047244094,
           -0.04780876494023904,
           -0.07883817427385892,
           -0.08097165991902834,
           0.18502202643171806,
           -0.14937759336099585,
           -0.12863070539419086,
           -0.3346456692913386
          ],
          [
           -0.326984126984127,
           -0.050335570469798654,
           0.09090909090909091,
           0,
           0.11428571428571428,
           0.2185430463576159,
           0.23448275862068965,
           0.011904761904761904,
           -0.060897435897435896,
           -0.20695230396119643
          ],
          [
           -0.17955801104972377,
           0.1725,
           0.2022792022792023,
           0.11977715877437325,
           0.20380434782608695,
           0.24932249322493225,
           0.3005181347150259,
           0.19540229885057472,
           0.11138613861386139,
           -0.021725239616613417
          ],
          [
           -0.04205607476635514,
           0.19495412844036697,
           0.15889830508474576,
           0.2585034013605442,
           0.2961165048543689,
           0.2069767441860465,
           0.2583732057416268,
           0.20681818181818182,
           0.1674641148325359,
           0.04936854190585534
          ],
          [
           -0.5192719486081371,
           -0.208955223880597,
           -0.26940133037694014,
           -0.3165775401069519,
           -0.23751387347391786,
           -0.22141372141372143,
           -0.2032967032967033,
           -0.2554585152838428,
           -0.29418472063854045,
           -0.39661199247109435
          ],
          [
           -0.5707070707070707,
           -0.2769070010449321,
           -0.32942326490713586,
           -0.3475177304964539,
           -0.29800629590766003,
           -0.2781124497991968,
           -0.22388059701492538,
           -0.33157338965153116,
           -0.3762993762993763,
           -0.429737753587333
          ],
          [
           -0.5378858746492049,
           -0.32571428571428573,
           -0.3489483747609943,
           -0.3543078412391094,
           -0.34476190476190477,
           -0.3176930596285435,
           -0.2609147609147609,
           -0.3736372646184341,
           -0.4069660861594867,
           -0.48258823529411765
          ],
          [
           -0.5966697502312673,
           -0.3751111111111111,
           -0.3910665451230629,
           -0.3904674610449129,
           -0.4176356589147287,
           -0.39926402943882244,
           -0.3031189083820663,
           -0.36880072137060416,
           -0.3939393939393939,
           -0.47444734965533636
          ],
          [
           -0.5842105263157895,
           -0.4030249110320285,
           -0.397459165154265,
           -0.4195867026055705,
           -0.4595070422535211,
           -0.41514598540145986,
           -0.3558597091531223,
           -0.4123616236162362,
           -0.4274678111587983,
           -0.5472760018009906
          ],
          [
           -0.6127012522361359,
           -0.13771929824561405,
           -0.05787234042553192,
           -0.06893464637421665,
           -0.08707607699358387,
           0.041742286751361164,
           -0.09898242368177614,
           -0.38979963570127507,
           -0.41629364368845123,
           -0.4512820512820513
          ],
          [
           -0.38762511373976344,
           0.13940520446096655,
           0.16788990825688074,
           0.13126709206927986,
           0.16909620991253643,
           0.22960151802656548,
           0.3798165137614679,
           0.05519176800748363,
           -0.16819012797074953,
           -0.25390070921985813
          ],
          [
           -0.13993871297242083,
           0.4318181818181818,
           0.39425837320574164,
           0.42464358452138495,
           0.41237113402061853,
           0.49421965317919075,
           0.6715686274509803,
           0.6009615384615384,
           0.2774566473988439,
           -0.011787346644214578
          ],
          [
           0.2089442815249267,
           0.6582914572864321,
           0.6991017964071856,
           0.6624156039009752,
           0.6644093303235515,
           0.7084870848708487,
           0.7955758962623951,
           0.7770370370370371,
           0.7940964722822175,
           0.44733044733044736
          ],
          [
           0.6617954070981211,
           0.88125,
           0.8782608695652174,
           0.8975770925110133,
           0.9070034443168772,
           0.8851894374282434,
           0.9281886387995713,
           0.9375696767001115,
           0.9475409836065574,
           0.8845222072678331
          ]
         ]
        }
       ],
       "layout": {
        "height": 500,
        "margin": {
         "b": 65,
         "l": 65,
         "r": 50,
         "t": 90
        },
        "scene": {
         "xaxis": {
          "title": {
           "text": "Dealer Showing"
          }
         },
         "yaxis": {
          "title": {
           "text": "Player Sum"
          }
         },
         "zaxis": {
          "title": {
           "text": "Avg. Reward"
          }
         }
        },
        "template": {
         "data": {
          "bar": [
           {
            "error_x": {
             "color": "#2a3f5f"
            },
            "error_y": {
             "color": "#2a3f5f"
            },
            "marker": {
             "line": {
              "color": "#E5ECF6",
              "width": 0.5
             },
             "pattern": {
              "fillmode": "overlay",
              "size": 10,
              "solidity": 0.2
             }
            },
            "type": "bar"
           }
          ],
          "barpolar": [
           {
            "marker": {
             "line": {
              "color": "#E5ECF6",
              "width": 0.5
             },
             "pattern": {
              "fillmode": "overlay",
              "size": 10,
              "solidity": 0.2
             }
            },
            "type": "barpolar"
           }
          ],
          "carpet": [
           {
            "aaxis": {
             "endlinecolor": "#2a3f5f",
             "gridcolor": "white",
             "linecolor": "white",
             "minorgridcolor": "white",
             "startlinecolor": "#2a3f5f"
            },
            "baxis": {
             "endlinecolor": "#2a3f5f",
             "gridcolor": "white",
             "linecolor": "white",
             "minorgridcolor": "white",
             "startlinecolor": "#2a3f5f"
            },
            "type": "carpet"
           }
          ],
          "choropleth": [
           {
            "colorbar": {
             "outlinewidth": 0,
             "ticks": ""
            },
            "type": "choropleth"
           }
          ],
          "contour": [
           {
            "colorbar": {
             "outlinewidth": 0,
             "ticks": ""
            },
            "colorscale": [
             [
              0,
              "#0d0887"
             ],
             [
              0.1111111111111111,
              "#46039f"
             ],
             [
              0.2222222222222222,
              "#7201a8"
             ],
             [
              0.3333333333333333,
              "#9c179e"
             ],
             [
              0.4444444444444444,
              "#bd3786"
             ],
             [
              0.5555555555555556,
              "#d8576b"
             ],
             [
              0.6666666666666666,
              "#ed7953"
             ],
             [
              0.7777777777777778,
              "#fb9f3a"
             ],
             [
              0.8888888888888888,
              "#fdca26"
             ],
             [
              1,
              "#f0f921"
             ]
            ],
            "type": "contour"
           }
          ],
          "contourcarpet": [
           {
            "colorbar": {
             "outlinewidth": 0,
             "ticks": ""
            },
            "type": "contourcarpet"
           }
          ],
          "heatmap": [
           {
            "colorbar": {
             "outlinewidth": 0,
             "ticks": ""
            },
            "colorscale": [
             [
              0,
              "#0d0887"
             ],
             [
              0.1111111111111111,
              "#46039f"
             ],
             [
              0.2222222222222222,
              "#7201a8"
             ],
             [
              0.3333333333333333,
              "#9c179e"
             ],
             [
              0.4444444444444444,
              "#bd3786"
             ],
             [
              0.5555555555555556,
              "#d8576b"
             ],
             [
              0.6666666666666666,
              "#ed7953"
             ],
             [
              0.7777777777777778,
              "#fb9f3a"
             ],
             [
              0.8888888888888888,
              "#fdca26"
             ],
             [
              1,
              "#f0f921"
             ]
            ],
            "type": "heatmap"
           }
          ],
          "heatmapgl": [
           {
            "colorbar": {
             "outlinewidth": 0,
             "ticks": ""
            },
            "colorscale": [
             [
              0,
              "#0d0887"
             ],
             [
              0.1111111111111111,
              "#46039f"
             ],
             [
              0.2222222222222222,
              "#7201a8"
             ],
             [
              0.3333333333333333,
              "#9c179e"
             ],
             [
              0.4444444444444444,
              "#bd3786"
             ],
             [
              0.5555555555555556,
              "#d8576b"
             ],
             [
              0.6666666666666666,
              "#ed7953"
             ],
             [
              0.7777777777777778,
              "#fb9f3a"
             ],
             [
              0.8888888888888888,
              "#fdca26"
             ],
             [
              1,
              "#f0f921"
             ]
            ],
            "type": "heatmapgl"
           }
          ],
          "histogram": [
           {
            "marker": {
             "pattern": {
              "fillmode": "overlay",
              "size": 10,
              "solidity": 0.2
             }
            },
            "type": "histogram"
           }
          ],
          "histogram2d": [
           {
            "colorbar": {
             "outlinewidth": 0,
             "ticks": ""
            },
            "colorscale": [
             [
              0,
              "#0d0887"
             ],
             [
              0.1111111111111111,
              "#46039f"
             ],
             [
              0.2222222222222222,
              "#7201a8"
             ],
             [
              0.3333333333333333,
              "#9c179e"
             ],
             [
              0.4444444444444444,
              "#bd3786"
             ],
             [
              0.5555555555555556,
              "#d8576b"
             ],
             [
              0.6666666666666666,
              "#ed7953"
             ],
             [
              0.7777777777777778,
              "#fb9f3a"
             ],
             [
              0.8888888888888888,
              "#fdca26"
             ],
             [
              1,
              "#f0f921"
             ]
            ],
            "type": "histogram2d"
           }
          ],
          "histogram2dcontour": [
           {
            "colorbar": {
             "outlinewidth": 0,
             "ticks": ""
            },
            "colorscale": [
             [
              0,
              "#0d0887"
             ],
             [
              0.1111111111111111,
              "#46039f"
             ],
             [
              0.2222222222222222,
              "#7201a8"
             ],
             [
              0.3333333333333333,
              "#9c179e"
             ],
             [
              0.4444444444444444,
              "#bd3786"
             ],
             [
              0.5555555555555556,
              "#d8576b"
             ],
             [
              0.6666666666666666,
              "#ed7953"
             ],
             [
              0.7777777777777778,
              "#fb9f3a"
             ],
             [
              0.8888888888888888,
              "#fdca26"
             ],
             [
              1,
              "#f0f921"
             ]
            ],
            "type": "histogram2dcontour"
           }
          ],
          "mesh3d": [
           {
            "colorbar": {
             "outlinewidth": 0,
             "ticks": ""
            },
            "type": "mesh3d"
           }
          ],
          "parcoords": [
           {
            "line": {
             "colorbar": {
              "outlinewidth": 0,
              "ticks": ""
             }
            },
            "type": "parcoords"
           }
          ],
          "pie": [
           {
            "automargin": true,
            "type": "pie"
           }
          ],
          "scatter": [
           {
            "fillpattern": {
             "fillmode": "overlay",
             "size": 10,
             "solidity": 0.2
            },
            "type": "scatter"
           }
          ],
          "scatter3d": [
           {
            "line": {
             "colorbar": {
              "outlinewidth": 0,
              "ticks": ""
             }
            },
            "marker": {
             "colorbar": {
              "outlinewidth": 0,
              "ticks": ""
             }
            },
            "type": "scatter3d"
           }
          ],
          "scattercarpet": [
           {
            "marker": {
             "colorbar": {
              "outlinewidth": 0,
              "ticks": ""
             }
            },
            "type": "scattercarpet"
           }
          ],
          "scattergeo": [
           {
            "marker": {
             "colorbar": {
              "outlinewidth": 0,
              "ticks": ""
             }
            },
            "type": "scattergeo"
           }
          ],
          "scattergl": [
           {
            "marker": {
             "colorbar": {
              "outlinewidth": 0,
              "ticks": ""
             }
            },
            "type": "scattergl"
           }
          ],
          "scattermapbox": [
           {
            "marker": {
             "colorbar": {
              "outlinewidth": 0,
              "ticks": ""
             }
            },
            "type": "scattermapbox"
           }
          ],
          "scatterpolar": [
           {
            "marker": {
             "colorbar": {
              "outlinewidth": 0,
              "ticks": ""
             }
            },
            "type": "scatterpolar"
           }
          ],
          "scatterpolargl": [
           {
            "marker": {
             "colorbar": {
              "outlinewidth": 0,
              "ticks": ""
             }
            },
            "type": "scatterpolargl"
           }
          ],
          "scatterternary": [
           {
            "marker": {
             "colorbar": {
              "outlinewidth": 0,
              "ticks": ""
             }
            },
            "type": "scatterternary"
           }
          ],
          "surface": [
           {
            "colorbar": {
             "outlinewidth": 0,
             "ticks": ""
            },
            "colorscale": [
             [
              0,
              "#0d0887"
             ],
             [
              0.1111111111111111,
              "#46039f"
             ],
             [
              0.2222222222222222,
              "#7201a8"
             ],
             [
              0.3333333333333333,
              "#9c179e"
             ],
             [
              0.4444444444444444,
              "#bd3786"
             ],
             [
              0.5555555555555556,
              "#d8576b"
             ],
             [
              0.6666666666666666,
              "#ed7953"
             ],
             [
              0.7777777777777778,
              "#fb9f3a"
             ],
             [
              0.8888888888888888,
              "#fdca26"
             ],
             [
              1,
              "#f0f921"
             ]
            ],
            "type": "surface"
           }
          ],
          "table": [
           {
            "cells": {
             "fill": {
              "color": "#EBF0F8"
             },
             "line": {
              "color": "white"
             }
            },
            "header": {
             "fill": {
              "color": "#C8D4E3"
             },
             "line": {
              "color": "white"
             }
            },
            "type": "table"
           }
          ]
         },
         "layout": {
          "annotationdefaults": {
           "arrowcolor": "#2a3f5f",
           "arrowhead": 0,
           "arrowwidth": 1
          },
          "autotypenumbers": "strict",
          "coloraxis": {
           "colorbar": {
            "outlinewidth": 0,
            "ticks": ""
           }
          },
          "colorscale": {
           "diverging": [
            [
             0,
             "#8e0152"
            ],
            [
             0.1,
             "#c51b7d"
            ],
            [
             0.2,
             "#de77ae"
            ],
            [
             0.3,
             "#f1b6da"
            ],
            [
             0.4,
             "#fde0ef"
            ],
            [
             0.5,
             "#f7f7f7"
            ],
            [
             0.6,
             "#e6f5d0"
            ],
            [
             0.7,
             "#b8e186"
            ],
            [
             0.8,
             "#7fbc41"
            ],
            [
             0.9,
             "#4d9221"
            ],
            [
             1,
             "#276419"
            ]
           ],
           "sequential": [
            [
             0,
             "#0d0887"
            ],
            [
             0.1111111111111111,
             "#46039f"
            ],
            [
             0.2222222222222222,
             "#7201a8"
            ],
            [
             0.3333333333333333,
             "#9c179e"
            ],
            [
             0.4444444444444444,
             "#bd3786"
            ],
            [
             0.5555555555555556,
             "#d8576b"
            ],
            [
             0.6666666666666666,
             "#ed7953"
            ],
            [
             0.7777777777777778,
             "#fb9f3a"
            ],
            [
             0.8888888888888888,
             "#fdca26"
            ],
            [
             1,
             "#f0f921"
            ]
           ],
           "sequentialminus": [
            [
             0,
             "#0d0887"
            ],
            [
             0.1111111111111111,
             "#46039f"
            ],
            [
             0.2222222222222222,
             "#7201a8"
            ],
            [
             0.3333333333333333,
             "#9c179e"
            ],
            [
             0.4444444444444444,
             "#bd3786"
            ],
            [
             0.5555555555555556,
             "#d8576b"
            ],
            [
             0.6666666666666666,
             "#ed7953"
            ],
            [
             0.7777777777777778,
             "#fb9f3a"
            ],
            [
             0.8888888888888888,
             "#fdca26"
            ],
            [
             1,
             "#f0f921"
            ]
           ]
          },
          "colorway": [
           "#636efa",
           "#EF553B",
           "#00cc96",
           "#ab63fa",
           "#FFA15A",
           "#19d3f3",
           "#FF6692",
           "#B6E880",
           "#FF97FF",
           "#FECB52"
          ],
          "font": {
           "color": "#2a3f5f"
          },
          "geo": {
           "bgcolor": "white",
           "lakecolor": "white",
           "landcolor": "#E5ECF6",
           "showlakes": true,
           "showland": true,
           "subunitcolor": "white"
          },
          "hoverlabel": {
           "align": "left"
          },
          "hovermode": "closest",
          "mapbox": {
           "style": "light"
          },
          "paper_bgcolor": "white",
          "plot_bgcolor": "#E5ECF6",
          "polar": {
           "angularaxis": {
            "gridcolor": "white",
            "linecolor": "white",
            "ticks": ""
           },
           "bgcolor": "#E5ECF6",
           "radialaxis": {
            "gridcolor": "white",
            "linecolor": "white",
            "ticks": ""
           }
          },
          "scene": {
           "xaxis": {
            "backgroundcolor": "#E5ECF6",
            "gridcolor": "white",
            "gridwidth": 2,
            "linecolor": "white",
            "showbackground": true,
            "ticks": "",
            "zerolinecolor": "white"
           },
           "yaxis": {
            "backgroundcolor": "#E5ECF6",
            "gridcolor": "white",
            "gridwidth": 2,
            "linecolor": "white",
            "showbackground": true,
            "ticks": "",
            "zerolinecolor": "white"
           },
           "zaxis": {
            "backgroundcolor": "#E5ECF6",
            "gridcolor": "white",
            "gridwidth": 2,
            "linecolor": "white",
            "showbackground": true,
            "ticks": "",
            "zerolinecolor": "white"
           }
          },
          "shapedefaults": {
           "line": {
            "color": "#2a3f5f"
           }
          },
          "ternary": {
           "aaxis": {
            "gridcolor": "white",
            "linecolor": "white",
            "ticks": ""
           },
           "baxis": {
            "gridcolor": "white",
            "linecolor": "white",
            "ticks": ""
           },
           "bgcolor": "#E5ECF6",
           "caxis": {
            "gridcolor": "white",
            "linecolor": "white",
            "ticks": ""
           }
          },
          "title": {
           "x": 0.05
          },
          "xaxis": {
           "automargin": true,
           "gridcolor": "white",
           "linecolor": "white",
           "ticks": "",
           "title": {
            "standoff": 15
           },
           "zerolinecolor": "white",
           "zerolinewidth": 2
          },
          "yaxis": {
           "automargin": true,
           "gridcolor": "white",
           "linecolor": "white",
           "ticks": "",
           "title": {
            "standoff": 15
           },
           "zerolinecolor": "white",
           "zerolinewidth": 2
          }
         }
        },
        "title": {
         "text": "First Visit MC Prediction, stay on 17"
        },
        "width": 500
       }
      }
     },
     "metadata": {},
     "output_type": "display_data"
    }
   ],
   "source": [
    "episodes = generate_episodes(BlackjackAgent(threshold=17, strategy=\"threshold\"))\n",
    "value_function_raw = first_visit_mc_prediction(episodes)\n",
    "value_function = convert_value_function_to_df(value_function_raw)\n",
    "plot_surface(value_function, title=\"First Visit MC Prediction, stay on 17\")"
   ]
  },
  {
   "cell_type": "code",
   "execution_count": 9,
   "metadata": {},
   "outputs": [
    {
     "data": {
      "application/vnd.plotly.v1+json": {
       "config": {
        "plotlyServerURL": "https://plot.ly"
       },
       "data": [
        {
         "type": "surface",
         "x": [
          1,
          2,
          3,
          4,
          5,
          6,
          7,
          8,
          9,
          10
         ],
         "y": [
          4,
          5,
          6,
          7,
          8,
          9,
          10,
          11,
          12,
          13,
          14,
          15,
          16,
          17,
          18,
          19,
          20,
          21
         ],
         "z": [
          [
           -0.7169811320754716,
           -0.6938775510204082,
           -0.7291666666666666,
           -0.8181818181818182,
           -0.6285714285714286,
           -0.8571428571428571,
           -0.6097560975609756,
           -0.46808510638297873,
           -0.7777777777777778,
           -0.7150259067357513
          ],
          [
           -0.7450980392156863,
           -0.7326732673267327,
           -0.5862068965517241,
           -0.7,
           -0.6966292134831461,
           -0.6896551724137931,
           -0.7021276595744681,
           -0.8271604938271605,
           -0.6842105263157895,
           -0.7486910994764397
          ],
          [
           -0.6827586206896552,
           -0.7902097902097902,
           -0.6554054054054054,
           -0.7533333333333333,
           -0.728,
           -0.8015267175572519,
           -0.6369426751592356,
           -0.6805555555555556,
           -0.7941176470588235,
           -0.7157894736842105
          ],
          [
           -0.7276995305164319,
           -0.6377551020408163,
           -0.725,
           -0.6918918918918919,
           -0.8040201005025126,
           -0.7204301075268817,
           -0.7127659574468085,
           -0.7267441860465116,
           -0.6494845360824743,
           -0.7652399481193255
          ],
          [
           -0.7743362831858407,
           -0.7833333333333333,
           -0.6818181818181818,
           -0.697508896797153,
           -0.7818930041152263,
           -0.809322033898305,
           -0.781021897810219,
           -0.7448559670781894,
           -0.7456140350877193,
           -0.745829244357213
          ],
          [
           -0.786833855799373,
           -0.8213058419243986,
           -0.7119205298013245,
           -0.7418300653594772,
           -0.7475083056478405,
           -0.8067484662576687,
           -0.8193548387096774,
           -0.7186440677966102,
           -0.7361963190184049,
           -0.710950080515298
          ],
          [
           -0.712468193384224,
           -0.6626506024096386,
           -0.7246753246753247,
           -0.7382198952879581,
           -0.6965317919075145,
           -0.6914893617021277,
           -0.6112676056338028,
           -0.6722222222222223,
           -0.7237851662404092,
           -0.6898861352980576
          ],
          [
           -0.3616504854368932,
           -0.2746478873239437,
           -0.19957537154989385,
           -0.29782608695652174,
           -0.3120728929384966,
           -0.34186046511627904,
           -0.2831858407079646,
           -0.3136792452830189,
           -0.3712984054669704,
           -0.3009439200444198
          ],
          [
           -0.7333333333333333,
           -0.724622030237581,
           -0.7425213675213675,
           -0.7492596248766041,
           -0.7315789473684211,
           -0.7389428263214671,
           -0.7286166842661035,
           -0.7206931702344547,
           -0.6885919835560124,
           -0.7358916478555305
          ],
          [
           -0.7581764122893955,
           -0.722972972972973,
           -0.7390438247011952,
           -0.7309377738825592,
           -0.7301731996353692,
           -0.752851711026616,
           -0.6895273401297498,
           -0.7507109004739336,
           -0.7021072796934866,
           -0.7340147373425243
          ],
          [
           -0.7725072604065828,
           -0.7419659735349716,
           -0.7175572519083969,
           -0.7211796246648794,
           -0.75187265917603,
           -0.7583710407239819,
           -0.7648698884758365,
           -0.7737864077669903,
           -0.7367924528301887,
           -0.740765918876048
          ],
          [
           -0.7984014209591475,
           -0.7550274223034735,
           -0.7639007698887939,
           -0.7592920353982301,
           -0.7497708524289642,
           -0.7389455782312925,
           -0.7367965367965368,
           -0.7728459530026109,
           -0.7382012466607302,
           -0.7631406761177754
          ],
          [
           -0.8196443691786621,
           -0.7815884476534296,
           -0.7659574468085106,
           -0.793691389599318,
           -0.796875,
           -0.7647554806070826,
           -0.7922874671340929,
           -0.8076609616951915,
           -0.7645590682196339,
           -0.778705636743215
          ],
          [
           -0.8055555555555556,
           -0.7529215358931552,
           -0.7880952380952381,
           -0.8026424442609413,
           -0.7908121410992617,
           -0.8206168831168831,
           -0.8015209125475286,
           -0.7737104825291181,
           -0.799697656840514,
           -0.798326189018167
          ],
          [
           -0.8409638554216867,
           -0.8250197941409343,
           -0.829869130100077,
           -0.8048973143759873,
           -0.8341194968553459,
           -0.806873977086743,
           -0.7872174590802806,
           -0.8198653198653199,
           -0.7687813021702838,
           -0.8053613053613053
          ],
          [
           -0.8551724137931035,
           -0.8263718263718264,
           -0.8370253164556962,
           -0.8217522658610272,
           -0.841033672670321,
           -0.8310708898944194,
           -0.8376880443388757,
           -0.791124713083397,
           -0.7890625,
           -0.8174048174048174
          ],
          [
           -0.8523111612175873,
           -0.8553935860058309,
           -0.8399778516057586,
           -0.8374164810690423,
           -0.8328611898016998,
           -0.8383267382702092,
           -0.8357541899441341,
           -0.8416237850200115,
           -0.8127147766323024,
           -0.8387464387464387
          ],
          [
           0.6323422770123278,
           0.8822238478419897,
           0.8946236559139785,
           0.8984149855907781,
           0.8993135011441648,
           0.9002911208151383,
           0.9128540305010894,
           0.945619335347432,
           0.9307909604519774,
           0.8879013241429349
          ]
         ]
        }
       ],
       "layout": {
        "height": 500,
        "margin": {
         "b": 65,
         "l": 65,
         "r": 50,
         "t": 90
        },
        "scene": {
         "xaxis": {
          "title": {
           "text": "Dealer Showing"
          }
         },
         "yaxis": {
          "title": {
           "text": "Player Sum"
          }
         },
         "zaxis": {
          "title": {
           "text": "Avg. Reward"
          }
         }
        },
        "template": {
         "data": {
          "bar": [
           {
            "error_x": {
             "color": "#2a3f5f"
            },
            "error_y": {
             "color": "#2a3f5f"
            },
            "marker": {
             "line": {
              "color": "#E5ECF6",
              "width": 0.5
             },
             "pattern": {
              "fillmode": "overlay",
              "size": 10,
              "solidity": 0.2
             }
            },
            "type": "bar"
           }
          ],
          "barpolar": [
           {
            "marker": {
             "line": {
              "color": "#E5ECF6",
              "width": 0.5
             },
             "pattern": {
              "fillmode": "overlay",
              "size": 10,
              "solidity": 0.2
             }
            },
            "type": "barpolar"
           }
          ],
          "carpet": [
           {
            "aaxis": {
             "endlinecolor": "#2a3f5f",
             "gridcolor": "white",
             "linecolor": "white",
             "minorgridcolor": "white",
             "startlinecolor": "#2a3f5f"
            },
            "baxis": {
             "endlinecolor": "#2a3f5f",
             "gridcolor": "white",
             "linecolor": "white",
             "minorgridcolor": "white",
             "startlinecolor": "#2a3f5f"
            },
            "type": "carpet"
           }
          ],
          "choropleth": [
           {
            "colorbar": {
             "outlinewidth": 0,
             "ticks": ""
            },
            "type": "choropleth"
           }
          ],
          "contour": [
           {
            "colorbar": {
             "outlinewidth": 0,
             "ticks": ""
            },
            "colorscale": [
             [
              0,
              "#0d0887"
             ],
             [
              0.1111111111111111,
              "#46039f"
             ],
             [
              0.2222222222222222,
              "#7201a8"
             ],
             [
              0.3333333333333333,
              "#9c179e"
             ],
             [
              0.4444444444444444,
              "#bd3786"
             ],
             [
              0.5555555555555556,
              "#d8576b"
             ],
             [
              0.6666666666666666,
              "#ed7953"
             ],
             [
              0.7777777777777778,
              "#fb9f3a"
             ],
             [
              0.8888888888888888,
              "#fdca26"
             ],
             [
              1,
              "#f0f921"
             ]
            ],
            "type": "contour"
           }
          ],
          "contourcarpet": [
           {
            "colorbar": {
             "outlinewidth": 0,
             "ticks": ""
            },
            "type": "contourcarpet"
           }
          ],
          "heatmap": [
           {
            "colorbar": {
             "outlinewidth": 0,
             "ticks": ""
            },
            "colorscale": [
             [
              0,
              "#0d0887"
             ],
             [
              0.1111111111111111,
              "#46039f"
             ],
             [
              0.2222222222222222,
              "#7201a8"
             ],
             [
              0.3333333333333333,
              "#9c179e"
             ],
             [
              0.4444444444444444,
              "#bd3786"
             ],
             [
              0.5555555555555556,
              "#d8576b"
             ],
             [
              0.6666666666666666,
              "#ed7953"
             ],
             [
              0.7777777777777778,
              "#fb9f3a"
             ],
             [
              0.8888888888888888,
              "#fdca26"
             ],
             [
              1,
              "#f0f921"
             ]
            ],
            "type": "heatmap"
           }
          ],
          "heatmapgl": [
           {
            "colorbar": {
             "outlinewidth": 0,
             "ticks": ""
            },
            "colorscale": [
             [
              0,
              "#0d0887"
             ],
             [
              0.1111111111111111,
              "#46039f"
             ],
             [
              0.2222222222222222,
              "#7201a8"
             ],
             [
              0.3333333333333333,
              "#9c179e"
             ],
             [
              0.4444444444444444,
              "#bd3786"
             ],
             [
              0.5555555555555556,
              "#d8576b"
             ],
             [
              0.6666666666666666,
              "#ed7953"
             ],
             [
              0.7777777777777778,
              "#fb9f3a"
             ],
             [
              0.8888888888888888,
              "#fdca26"
             ],
             [
              1,
              "#f0f921"
             ]
            ],
            "type": "heatmapgl"
           }
          ],
          "histogram": [
           {
            "marker": {
             "pattern": {
              "fillmode": "overlay",
              "size": 10,
              "solidity": 0.2
             }
            },
            "type": "histogram"
           }
          ],
          "histogram2d": [
           {
            "colorbar": {
             "outlinewidth": 0,
             "ticks": ""
            },
            "colorscale": [
             [
              0,
              "#0d0887"
             ],
             [
              0.1111111111111111,
              "#46039f"
             ],
             [
              0.2222222222222222,
              "#7201a8"
             ],
             [
              0.3333333333333333,
              "#9c179e"
             ],
             [
              0.4444444444444444,
              "#bd3786"
             ],
             [
              0.5555555555555556,
              "#d8576b"
             ],
             [
              0.6666666666666666,
              "#ed7953"
             ],
             [
              0.7777777777777778,
              "#fb9f3a"
             ],
             [
              0.8888888888888888,
              "#fdca26"
             ],
             [
              1,
              "#f0f921"
             ]
            ],
            "type": "histogram2d"
           }
          ],
          "histogram2dcontour": [
           {
            "colorbar": {
             "outlinewidth": 0,
             "ticks": ""
            },
            "colorscale": [
             [
              0,
              "#0d0887"
             ],
             [
              0.1111111111111111,
              "#46039f"
             ],
             [
              0.2222222222222222,
              "#7201a8"
             ],
             [
              0.3333333333333333,
              "#9c179e"
             ],
             [
              0.4444444444444444,
              "#bd3786"
             ],
             [
              0.5555555555555556,
              "#d8576b"
             ],
             [
              0.6666666666666666,
              "#ed7953"
             ],
             [
              0.7777777777777778,
              "#fb9f3a"
             ],
             [
              0.8888888888888888,
              "#fdca26"
             ],
             [
              1,
              "#f0f921"
             ]
            ],
            "type": "histogram2dcontour"
           }
          ],
          "mesh3d": [
           {
            "colorbar": {
             "outlinewidth": 0,
             "ticks": ""
            },
            "type": "mesh3d"
           }
          ],
          "parcoords": [
           {
            "line": {
             "colorbar": {
              "outlinewidth": 0,
              "ticks": ""
             }
            },
            "type": "parcoords"
           }
          ],
          "pie": [
           {
            "automargin": true,
            "type": "pie"
           }
          ],
          "scatter": [
           {
            "fillpattern": {
             "fillmode": "overlay",
             "size": 10,
             "solidity": 0.2
            },
            "type": "scatter"
           }
          ],
          "scatter3d": [
           {
            "line": {
             "colorbar": {
              "outlinewidth": 0,
              "ticks": ""
             }
            },
            "marker": {
             "colorbar": {
              "outlinewidth": 0,
              "ticks": ""
             }
            },
            "type": "scatter3d"
           }
          ],
          "scattercarpet": [
           {
            "marker": {
             "colorbar": {
              "outlinewidth": 0,
              "ticks": ""
             }
            },
            "type": "scattercarpet"
           }
          ],
          "scattergeo": [
           {
            "marker": {
             "colorbar": {
              "outlinewidth": 0,
              "ticks": ""
             }
            },
            "type": "scattergeo"
           }
          ],
          "scattergl": [
           {
            "marker": {
             "colorbar": {
              "outlinewidth": 0,
              "ticks": ""
             }
            },
            "type": "scattergl"
           }
          ],
          "scattermapbox": [
           {
            "marker": {
             "colorbar": {
              "outlinewidth": 0,
              "ticks": ""
             }
            },
            "type": "scattermapbox"
           }
          ],
          "scatterpolar": [
           {
            "marker": {
             "colorbar": {
              "outlinewidth": 0,
              "ticks": ""
             }
            },
            "type": "scatterpolar"
           }
          ],
          "scatterpolargl": [
           {
            "marker": {
             "colorbar": {
              "outlinewidth": 0,
              "ticks": ""
             }
            },
            "type": "scatterpolargl"
           }
          ],
          "scatterternary": [
           {
            "marker": {
             "colorbar": {
              "outlinewidth": 0,
              "ticks": ""
             }
            },
            "type": "scatterternary"
           }
          ],
          "surface": [
           {
            "colorbar": {
             "outlinewidth": 0,
             "ticks": ""
            },
            "colorscale": [
             [
              0,
              "#0d0887"
             ],
             [
              0.1111111111111111,
              "#46039f"
             ],
             [
              0.2222222222222222,
              "#7201a8"
             ],
             [
              0.3333333333333333,
              "#9c179e"
             ],
             [
              0.4444444444444444,
              "#bd3786"
             ],
             [
              0.5555555555555556,
              "#d8576b"
             ],
             [
              0.6666666666666666,
              "#ed7953"
             ],
             [
              0.7777777777777778,
              "#fb9f3a"
             ],
             [
              0.8888888888888888,
              "#fdca26"
             ],
             [
              1,
              "#f0f921"
             ]
            ],
            "type": "surface"
           }
          ],
          "table": [
           {
            "cells": {
             "fill": {
              "color": "#EBF0F8"
             },
             "line": {
              "color": "white"
             }
            },
            "header": {
             "fill": {
              "color": "#C8D4E3"
             },
             "line": {
              "color": "white"
             }
            },
            "type": "table"
           }
          ]
         },
         "layout": {
          "annotationdefaults": {
           "arrowcolor": "#2a3f5f",
           "arrowhead": 0,
           "arrowwidth": 1
          },
          "autotypenumbers": "strict",
          "coloraxis": {
           "colorbar": {
            "outlinewidth": 0,
            "ticks": ""
           }
          },
          "colorscale": {
           "diverging": [
            [
             0,
             "#8e0152"
            ],
            [
             0.1,
             "#c51b7d"
            ],
            [
             0.2,
             "#de77ae"
            ],
            [
             0.3,
             "#f1b6da"
            ],
            [
             0.4,
             "#fde0ef"
            ],
            [
             0.5,
             "#f7f7f7"
            ],
            [
             0.6,
             "#e6f5d0"
            ],
            [
             0.7,
             "#b8e186"
            ],
            [
             0.8,
             "#7fbc41"
            ],
            [
             0.9,
             "#4d9221"
            ],
            [
             1,
             "#276419"
            ]
           ],
           "sequential": [
            [
             0,
             "#0d0887"
            ],
            [
             0.1111111111111111,
             "#46039f"
            ],
            [
             0.2222222222222222,
             "#7201a8"
            ],
            [
             0.3333333333333333,
             "#9c179e"
            ],
            [
             0.4444444444444444,
             "#bd3786"
            ],
            [
             0.5555555555555556,
             "#d8576b"
            ],
            [
             0.6666666666666666,
             "#ed7953"
            ],
            [
             0.7777777777777778,
             "#fb9f3a"
            ],
            [
             0.8888888888888888,
             "#fdca26"
            ],
            [
             1,
             "#f0f921"
            ]
           ],
           "sequentialminus": [
            [
             0,
             "#0d0887"
            ],
            [
             0.1111111111111111,
             "#46039f"
            ],
            [
             0.2222222222222222,
             "#7201a8"
            ],
            [
             0.3333333333333333,
             "#9c179e"
            ],
            [
             0.4444444444444444,
             "#bd3786"
            ],
            [
             0.5555555555555556,
             "#d8576b"
            ],
            [
             0.6666666666666666,
             "#ed7953"
            ],
            [
             0.7777777777777778,
             "#fb9f3a"
            ],
            [
             0.8888888888888888,
             "#fdca26"
            ],
            [
             1,
             "#f0f921"
            ]
           ]
          },
          "colorway": [
           "#636efa",
           "#EF553B",
           "#00cc96",
           "#ab63fa",
           "#FFA15A",
           "#19d3f3",
           "#FF6692",
           "#B6E880",
           "#FF97FF",
           "#FECB52"
          ],
          "font": {
           "color": "#2a3f5f"
          },
          "geo": {
           "bgcolor": "white",
           "lakecolor": "white",
           "landcolor": "#E5ECF6",
           "showlakes": true,
           "showland": true,
           "subunitcolor": "white"
          },
          "hoverlabel": {
           "align": "left"
          },
          "hovermode": "closest",
          "mapbox": {
           "style": "light"
          },
          "paper_bgcolor": "white",
          "plot_bgcolor": "#E5ECF6",
          "polar": {
           "angularaxis": {
            "gridcolor": "white",
            "linecolor": "white",
            "ticks": ""
           },
           "bgcolor": "#E5ECF6",
           "radialaxis": {
            "gridcolor": "white",
            "linecolor": "white",
            "ticks": ""
           }
          },
          "scene": {
           "xaxis": {
            "backgroundcolor": "#E5ECF6",
            "gridcolor": "white",
            "gridwidth": 2,
            "linecolor": "white",
            "showbackground": true,
            "ticks": "",
            "zerolinecolor": "white"
           },
           "yaxis": {
            "backgroundcolor": "#E5ECF6",
            "gridcolor": "white",
            "gridwidth": 2,
            "linecolor": "white",
            "showbackground": true,
            "ticks": "",
            "zerolinecolor": "white"
           },
           "zaxis": {
            "backgroundcolor": "#E5ECF6",
            "gridcolor": "white",
            "gridwidth": 2,
            "linecolor": "white",
            "showbackground": true,
            "ticks": "",
            "zerolinecolor": "white"
           }
          },
          "shapedefaults": {
           "line": {
            "color": "#2a3f5f"
           }
          },
          "ternary": {
           "aaxis": {
            "gridcolor": "white",
            "linecolor": "white",
            "ticks": ""
           },
           "baxis": {
            "gridcolor": "white",
            "linecolor": "white",
            "ticks": ""
           },
           "bgcolor": "#E5ECF6",
           "caxis": {
            "gridcolor": "white",
            "linecolor": "white",
            "ticks": ""
           }
          },
          "title": {
           "x": 0.05
          },
          "xaxis": {
           "automargin": true,
           "gridcolor": "white",
           "linecolor": "white",
           "ticks": "",
           "title": {
            "standoff": 15
           },
           "zerolinecolor": "white",
           "zerolinewidth": 2
          },
          "yaxis": {
           "automargin": true,
           "gridcolor": "white",
           "linecolor": "white",
           "ticks": "",
           "title": {
            "standoff": 15
           },
           "zerolinecolor": "white",
           "zerolinewidth": 2
          }
         }
        },
        "title": {
         "text": "First Visit MC Prediction, stay on 20"
        },
        "width": 500
       }
      }
     },
     "metadata": {},
     "output_type": "display_data"
    }
   ],
   "source": [
    "episodes = generate_episodes(BlackjackAgent(threshold=21, strategy=\"threshold\"))\n",
    "value_function_raw = first_visit_mc_prediction(episodes)\n",
    "value_function = convert_value_function_to_df(value_function_raw)\n",
    "plot_surface(value_function, title=\"First Visit MC Prediction, stay on 20\")\n"
   ]
  },
  {
   "cell_type": "code",
   "execution_count": 10,
   "metadata": {},
   "outputs": [
    {
     "data": {
      "application/vnd.plotly.v1+json": {
       "config": {
        "plotlyServerURL": "https://plot.ly"
       },
       "data": [
        {
         "type": "surface",
         "x": [
          1,
          2,
          3,
          4,
          5,
          6,
          7,
          8,
          9,
          10
         ],
         "y": [
          4,
          5,
          6,
          7,
          8,
          9,
          10,
          11,
          12,
          13,
          14,
          15,
          16,
          17,
          18,
          19,
          20,
          21
         ],
         "z": [
          [
           -0.8913043478260869,
           -0.3559322033898305,
           -0.4166666666666667,
           -0.29310344827586204,
           -0.21052631578947367,
           -0.4090909090909091,
           -0.5416666666666666,
           -0.44680851063829785,
           -0.6,
           -0.6179775280898876
          ],
          [
           -0.7790697674418605,
           -0.20454545454545456,
           -0.40186915887850466,
           -0.25,
           -0.13953488372093023,
           -0.4470588235294118,
           -0.6666666666666666,
           -0.4146341463414634,
           -0.45871559633027525,
           -0.6131578947368421
          ],
          [
           -0.8287671232876712,
           -0.22522522522522523,
           -0.3798449612403101,
           -0.31297709923664124,
           -0.189873417721519,
           -0.1417910447761194,
           -0.4375,
           -0.5886075949367089,
           -0.5657894736842105,
           -0.5767097966728281
          ],
          [
           -0.71875,
           -0.1827956989247312,
           -0.45614035087719296,
           -0.3055555555555556,
           -0.09782608695652174,
           -0.19021739130434784,
           -0.5405405405405406,
           -0.31343283582089554,
           -0.42702702702702705,
           -0.5344827586206896
          ],
          [
           -0.746606334841629,
           -0.37117903930131,
           -0.24444444444444444,
           -0.19540229885057472,
           -0.3172690763052209,
           -0.3004484304932735,
           -0.4473684210526316,
           -0.4,
           -0.5892116182572614,
           -0.5711361310133061
          ],
          [
           -0.743859649122807,
           -0.3210702341137124,
           -0.3669064748201439,
           -0.31986531986531985,
           -0.15355805243445692,
           -0.09897610921501707,
           -0.36633663366336633,
           -0.3448275862068966,
           -0.44333333333333336,
           -0.4919423240033927
          ],
          [
           -0.6346153846153846,
           -0.26331360946745563,
           -0.19130434782608696,
           -0.21951219512195122,
           -0.15598885793871867,
           -0.08231707317073171,
           -0.3857566765578635,
           -0.31347962382445144,
           -0.4147058823529412,
           -0.45994277539341916
          ],
          [
           -0.65807962529274,
           -0.3208955223880597,
           -0.25984251968503935,
           -0.3333333333333333,
           -0.14698162729658792,
           -0.215,
           -0.40559440559440557,
           -0.42606516290726815,
           -0.4267990074441687,
           -0.5043969849246231
          ],
          [
           -0.7028301886792453,
           -0.39662921348314606,
           -0.41591928251121074,
           -0.36027713625866054,
           -0.3360655737704918,
           -0.3940520446096654,
           -0.5084337349397591,
           -0.4856156501726122,
           -0.6184690157958688,
           -0.5959147424511545
          ],
          [
           -0.7207009857612268,
           -0.49347568208778175,
           -0.40782122905027934,
           -0.40331491712707185,
           -0.3656633221850613,
           -0.2889137737961926,
           -0.5748898678414097,
           -0.5408515535097813,
           -0.5023640661938534,
           -0.6361588284990144
          ],
          [
           -0.7251655629139073,
           -0.42485207100591715,
           -0.4267379679144385,
           -0.37398373983739835,
           -0.35714285714285715,
           -0.44504896626768226,
           -0.5601415094339622,
           -0.6040428061831153,
           -0.6184364060676779,
           -0.6180674671240709
          ],
          [
           -0.7603305785123967,
           -0.45878524945770066,
           -0.4068801897983393,
           -0.4450736126840317,
           -0.4218928164196123,
           -0.3511627906976744,
           -0.5425652667423383,
           -0.5645342312008979,
           -0.6133333333333333,
           -0.6423482473639214
          ],
          [
           -0.7959401709401709,
           -0.4784172661870504,
           -0.43,
           -0.4105263157894737,
           -0.40632603406326034,
           -0.3623529411764706,
           -0.5605700712589073,
           -0.5345029239766081,
           -0.5937859608745685,
           -0.6340160284951024
          ],
          [
           -0.6997635933806147,
           -0.37001209189842804,
           -0.3630057803468208,
           -0.38100686498855835,
           -0.40581395348837207,
           -0.32167832167832167,
           -0.37361282367447596,
           -0.4764705882352941,
           -0.563816604708798,
           -0.6075460487225193
          ],
          [
           -0.6257594167679222,
           -0.3536439665471924,
           -0.3133159268929504,
           -0.2588957055214724,
           -0.2255813953488372,
           -0.25205158264947247,
           -0.1782178217821782,
           -0.2809123649459784,
           -0.4489544895448955,
           -0.4982003599280144
          ],
          [
           -0.4505363528009535,
           -0.1859931113662457,
           -0.17142857142857143,
           -0.14652014652014653,
           -0.15315315315315314,
           -0.12311557788944724,
           -0.05102040816326531,
           -0.0299625468164794,
           -0.27726218097447797,
           -0.4064714946070878
          ],
          [
           -0.3157010915197313,
           -0.1276595744680851,
           -0.10341951626355296,
           -0.07108239095315025,
           -0.10522022838499184,
           -0.04692832764505119,
           -0.06666666666666667,
           -0.010008340283569641,
           0.0137221269296741,
           -0.2231025854879066
          ],
          [
           -0.04151404151404151,
           0.11602870813397129,
           0.09125,
           0.13793103448275862,
           0.15911730545876887,
           0.23255813953488372,
           0.1649746192893401,
           0.18311533888228299,
           0.1711590296495957,
           0.09882643607164916
          ]
         ]
        }
       ],
       "layout": {
        "height": 500,
        "margin": {
         "b": 65,
         "l": 65,
         "r": 50,
         "t": 90
        },
        "scene": {
         "xaxis": {
          "title": {
           "text": "Dealer Showing"
          }
         },
         "yaxis": {
          "title": {
           "text": "Player Sum"
          }
         },
         "zaxis": {
          "title": {
           "text": "Avg. Reward"
          }
         }
        },
        "template": {
         "data": {
          "bar": [
           {
            "error_x": {
             "color": "#2a3f5f"
            },
            "error_y": {
             "color": "#2a3f5f"
            },
            "marker": {
             "line": {
              "color": "#E5ECF6",
              "width": 0.5
             },
             "pattern": {
              "fillmode": "overlay",
              "size": 10,
              "solidity": 0.2
             }
            },
            "type": "bar"
           }
          ],
          "barpolar": [
           {
            "marker": {
             "line": {
              "color": "#E5ECF6",
              "width": 0.5
             },
             "pattern": {
              "fillmode": "overlay",
              "size": 10,
              "solidity": 0.2
             }
            },
            "type": "barpolar"
           }
          ],
          "carpet": [
           {
            "aaxis": {
             "endlinecolor": "#2a3f5f",
             "gridcolor": "white",
             "linecolor": "white",
             "minorgridcolor": "white",
             "startlinecolor": "#2a3f5f"
            },
            "baxis": {
             "endlinecolor": "#2a3f5f",
             "gridcolor": "white",
             "linecolor": "white",
             "minorgridcolor": "white",
             "startlinecolor": "#2a3f5f"
            },
            "type": "carpet"
           }
          ],
          "choropleth": [
           {
            "colorbar": {
             "outlinewidth": 0,
             "ticks": ""
            },
            "type": "choropleth"
           }
          ],
          "contour": [
           {
            "colorbar": {
             "outlinewidth": 0,
             "ticks": ""
            },
            "colorscale": [
             [
              0,
              "#0d0887"
             ],
             [
              0.1111111111111111,
              "#46039f"
             ],
             [
              0.2222222222222222,
              "#7201a8"
             ],
             [
              0.3333333333333333,
              "#9c179e"
             ],
             [
              0.4444444444444444,
              "#bd3786"
             ],
             [
              0.5555555555555556,
              "#d8576b"
             ],
             [
              0.6666666666666666,
              "#ed7953"
             ],
             [
              0.7777777777777778,
              "#fb9f3a"
             ],
             [
              0.8888888888888888,
              "#fdca26"
             ],
             [
              1,
              "#f0f921"
             ]
            ],
            "type": "contour"
           }
          ],
          "contourcarpet": [
           {
            "colorbar": {
             "outlinewidth": 0,
             "ticks": ""
            },
            "type": "contourcarpet"
           }
          ],
          "heatmap": [
           {
            "colorbar": {
             "outlinewidth": 0,
             "ticks": ""
            },
            "colorscale": [
             [
              0,
              "#0d0887"
             ],
             [
              0.1111111111111111,
              "#46039f"
             ],
             [
              0.2222222222222222,
              "#7201a8"
             ],
             [
              0.3333333333333333,
              "#9c179e"
             ],
             [
              0.4444444444444444,
              "#bd3786"
             ],
             [
              0.5555555555555556,
              "#d8576b"
             ],
             [
              0.6666666666666666,
              "#ed7953"
             ],
             [
              0.7777777777777778,
              "#fb9f3a"
             ],
             [
              0.8888888888888888,
              "#fdca26"
             ],
             [
              1,
              "#f0f921"
             ]
            ],
            "type": "heatmap"
           }
          ],
          "heatmapgl": [
           {
            "colorbar": {
             "outlinewidth": 0,
             "ticks": ""
            },
            "colorscale": [
             [
              0,
              "#0d0887"
             ],
             [
              0.1111111111111111,
              "#46039f"
             ],
             [
              0.2222222222222222,
              "#7201a8"
             ],
             [
              0.3333333333333333,
              "#9c179e"
             ],
             [
              0.4444444444444444,
              "#bd3786"
             ],
             [
              0.5555555555555556,
              "#d8576b"
             ],
             [
              0.6666666666666666,
              "#ed7953"
             ],
             [
              0.7777777777777778,
              "#fb9f3a"
             ],
             [
              0.8888888888888888,
              "#fdca26"
             ],
             [
              1,
              "#f0f921"
             ]
            ],
            "type": "heatmapgl"
           }
          ],
          "histogram": [
           {
            "marker": {
             "pattern": {
              "fillmode": "overlay",
              "size": 10,
              "solidity": 0.2
             }
            },
            "type": "histogram"
           }
          ],
          "histogram2d": [
           {
            "colorbar": {
             "outlinewidth": 0,
             "ticks": ""
            },
            "colorscale": [
             [
              0,
              "#0d0887"
             ],
             [
              0.1111111111111111,
              "#46039f"
             ],
             [
              0.2222222222222222,
              "#7201a8"
             ],
             [
              0.3333333333333333,
              "#9c179e"
             ],
             [
              0.4444444444444444,
              "#bd3786"
             ],
             [
              0.5555555555555556,
              "#d8576b"
             ],
             [
              0.6666666666666666,
              "#ed7953"
             ],
             [
              0.7777777777777778,
              "#fb9f3a"
             ],
             [
              0.8888888888888888,
              "#fdca26"
             ],
             [
              1,
              "#f0f921"
             ]
            ],
            "type": "histogram2d"
           }
          ],
          "histogram2dcontour": [
           {
            "colorbar": {
             "outlinewidth": 0,
             "ticks": ""
            },
            "colorscale": [
             [
              0,
              "#0d0887"
             ],
             [
              0.1111111111111111,
              "#46039f"
             ],
             [
              0.2222222222222222,
              "#7201a8"
             ],
             [
              0.3333333333333333,
              "#9c179e"
             ],
             [
              0.4444444444444444,
              "#bd3786"
             ],
             [
              0.5555555555555556,
              "#d8576b"
             ],
             [
              0.6666666666666666,
              "#ed7953"
             ],
             [
              0.7777777777777778,
              "#fb9f3a"
             ],
             [
              0.8888888888888888,
              "#fdca26"
             ],
             [
              1,
              "#f0f921"
             ]
            ],
            "type": "histogram2dcontour"
           }
          ],
          "mesh3d": [
           {
            "colorbar": {
             "outlinewidth": 0,
             "ticks": ""
            },
            "type": "mesh3d"
           }
          ],
          "parcoords": [
           {
            "line": {
             "colorbar": {
              "outlinewidth": 0,
              "ticks": ""
             }
            },
            "type": "parcoords"
           }
          ],
          "pie": [
           {
            "automargin": true,
            "type": "pie"
           }
          ],
          "scatter": [
           {
            "fillpattern": {
             "fillmode": "overlay",
             "size": 10,
             "solidity": 0.2
            },
            "type": "scatter"
           }
          ],
          "scatter3d": [
           {
            "line": {
             "colorbar": {
              "outlinewidth": 0,
              "ticks": ""
             }
            },
            "marker": {
             "colorbar": {
              "outlinewidth": 0,
              "ticks": ""
             }
            },
            "type": "scatter3d"
           }
          ],
          "scattercarpet": [
           {
            "marker": {
             "colorbar": {
              "outlinewidth": 0,
              "ticks": ""
             }
            },
            "type": "scattercarpet"
           }
          ],
          "scattergeo": [
           {
            "marker": {
             "colorbar": {
              "outlinewidth": 0,
              "ticks": ""
             }
            },
            "type": "scattergeo"
           }
          ],
          "scattergl": [
           {
            "marker": {
             "colorbar": {
              "outlinewidth": 0,
              "ticks": ""
             }
            },
            "type": "scattergl"
           }
          ],
          "scattermapbox": [
           {
            "marker": {
             "colorbar": {
              "outlinewidth": 0,
              "ticks": ""
             }
            },
            "type": "scattermapbox"
           }
          ],
          "scatterpolar": [
           {
            "marker": {
             "colorbar": {
              "outlinewidth": 0,
              "ticks": ""
             }
            },
            "type": "scatterpolar"
           }
          ],
          "scatterpolargl": [
           {
            "marker": {
             "colorbar": {
              "outlinewidth": 0,
              "ticks": ""
             }
            },
            "type": "scatterpolargl"
           }
          ],
          "scatterternary": [
           {
            "marker": {
             "colorbar": {
              "outlinewidth": 0,
              "ticks": ""
             }
            },
            "type": "scatterternary"
           }
          ],
          "surface": [
           {
            "colorbar": {
             "outlinewidth": 0,
             "ticks": ""
            },
            "colorscale": [
             [
              0,
              "#0d0887"
             ],
             [
              0.1111111111111111,
              "#46039f"
             ],
             [
              0.2222222222222222,
              "#7201a8"
             ],
             [
              0.3333333333333333,
              "#9c179e"
             ],
             [
              0.4444444444444444,
              "#bd3786"
             ],
             [
              0.5555555555555556,
              "#d8576b"
             ],
             [
              0.6666666666666666,
              "#ed7953"
             ],
             [
              0.7777777777777778,
              "#fb9f3a"
             ],
             [
              0.8888888888888888,
              "#fdca26"
             ],
             [
              1,
              "#f0f921"
             ]
            ],
            "type": "surface"
           }
          ],
          "table": [
           {
            "cells": {
             "fill": {
              "color": "#EBF0F8"
             },
             "line": {
              "color": "white"
             }
            },
            "header": {
             "fill": {
              "color": "#C8D4E3"
             },
             "line": {
              "color": "white"
             }
            },
            "type": "table"
           }
          ]
         },
         "layout": {
          "annotationdefaults": {
           "arrowcolor": "#2a3f5f",
           "arrowhead": 0,
           "arrowwidth": 1
          },
          "autotypenumbers": "strict",
          "coloraxis": {
           "colorbar": {
            "outlinewidth": 0,
            "ticks": ""
           }
          },
          "colorscale": {
           "diverging": [
            [
             0,
             "#8e0152"
            ],
            [
             0.1,
             "#c51b7d"
            ],
            [
             0.2,
             "#de77ae"
            ],
            [
             0.3,
             "#f1b6da"
            ],
            [
             0.4,
             "#fde0ef"
            ],
            [
             0.5,
             "#f7f7f7"
            ],
            [
             0.6,
             "#e6f5d0"
            ],
            [
             0.7,
             "#b8e186"
            ],
            [
             0.8,
             "#7fbc41"
            ],
            [
             0.9,
             "#4d9221"
            ],
            [
             1,
             "#276419"
            ]
           ],
           "sequential": [
            [
             0,
             "#0d0887"
            ],
            [
             0.1111111111111111,
             "#46039f"
            ],
            [
             0.2222222222222222,
             "#7201a8"
            ],
            [
             0.3333333333333333,
             "#9c179e"
            ],
            [
             0.4444444444444444,
             "#bd3786"
            ],
            [
             0.5555555555555556,
             "#d8576b"
            ],
            [
             0.6666666666666666,
             "#ed7953"
            ],
            [
             0.7777777777777778,
             "#fb9f3a"
            ],
            [
             0.8888888888888888,
             "#fdca26"
            ],
            [
             1,
             "#f0f921"
            ]
           ],
           "sequentialminus": [
            [
             0,
             "#0d0887"
            ],
            [
             0.1111111111111111,
             "#46039f"
            ],
            [
             0.2222222222222222,
             "#7201a8"
            ],
            [
             0.3333333333333333,
             "#9c179e"
            ],
            [
             0.4444444444444444,
             "#bd3786"
            ],
            [
             0.5555555555555556,
             "#d8576b"
            ],
            [
             0.6666666666666666,
             "#ed7953"
            ],
            [
             0.7777777777777778,
             "#fb9f3a"
            ],
            [
             0.8888888888888888,
             "#fdca26"
            ],
            [
             1,
             "#f0f921"
            ]
           ]
          },
          "colorway": [
           "#636efa",
           "#EF553B",
           "#00cc96",
           "#ab63fa",
           "#FFA15A",
           "#19d3f3",
           "#FF6692",
           "#B6E880",
           "#FF97FF",
           "#FECB52"
          ],
          "font": {
           "color": "#2a3f5f"
          },
          "geo": {
           "bgcolor": "white",
           "lakecolor": "white",
           "landcolor": "#E5ECF6",
           "showlakes": true,
           "showland": true,
           "subunitcolor": "white"
          },
          "hoverlabel": {
           "align": "left"
          },
          "hovermode": "closest",
          "mapbox": {
           "style": "light"
          },
          "paper_bgcolor": "white",
          "plot_bgcolor": "#E5ECF6",
          "polar": {
           "angularaxis": {
            "gridcolor": "white",
            "linecolor": "white",
            "ticks": ""
           },
           "bgcolor": "#E5ECF6",
           "radialaxis": {
            "gridcolor": "white",
            "linecolor": "white",
            "ticks": ""
           }
          },
          "scene": {
           "xaxis": {
            "backgroundcolor": "#E5ECF6",
            "gridcolor": "white",
            "gridwidth": 2,
            "linecolor": "white",
            "showbackground": true,
            "ticks": "",
            "zerolinecolor": "white"
           },
           "yaxis": {
            "backgroundcolor": "#E5ECF6",
            "gridcolor": "white",
            "gridwidth": 2,
            "linecolor": "white",
            "showbackground": true,
            "ticks": "",
            "zerolinecolor": "white"
           },
           "zaxis": {
            "backgroundcolor": "#E5ECF6",
            "gridcolor": "white",
            "gridwidth": 2,
            "linecolor": "white",
            "showbackground": true,
            "ticks": "",
            "zerolinecolor": "white"
           }
          },
          "shapedefaults": {
           "line": {
            "color": "#2a3f5f"
           }
          },
          "ternary": {
           "aaxis": {
            "gridcolor": "white",
            "linecolor": "white",
            "ticks": ""
           },
           "baxis": {
            "gridcolor": "white",
            "linecolor": "white",
            "ticks": ""
           },
           "bgcolor": "#E5ECF6",
           "caxis": {
            "gridcolor": "white",
            "linecolor": "white",
            "ticks": ""
           }
          },
          "title": {
           "x": 0.05
          },
          "xaxis": {
           "automargin": true,
           "gridcolor": "white",
           "linecolor": "white",
           "ticks": "",
           "title": {
            "standoff": 15
           },
           "zerolinecolor": "white",
           "zerolinewidth": 2
          },
          "yaxis": {
           "automargin": true,
           "gridcolor": "white",
           "linecolor": "white",
           "ticks": "",
           "title": {
            "standoff": 15
           },
           "zerolinecolor": "white",
           "zerolinewidth": 2
          }
         }
        },
        "title": {
         "text": "First Visit MC Prediction, stay on 17"
        },
        "width": 500
       }
      }
     },
     "metadata": {},
     "output_type": "display_data"
    }
   ],
   "source": [
    "episodes = generate_episodes(\n",
    "    BlackjackAgent(threshold=17, strategy=\"random\"), n_episodes=100_000\n",
    ")\n",
    "value_function_raw = first_visit_mc_prediction(episodes)\n",
    "value_function = convert_value_function_to_df(value_function_raw)\n",
    "plot_surface(value_function, title=\"First Visit MC Prediction, stay on 17\")\n"
   ]
  },
  {
   "cell_type": "markdown",
   "metadata": {},
   "source": [
    "## MC Control"
   ]
  },
  {
   "cell_type": "markdown",
   "metadata": {},
   "source": [
    "### Example 5.4: Off-policy Estimation of a Blackjack State Value"
   ]
  },
  {
   "cell_type": "code",
   "execution_count": 11,
   "metadata": {},
   "outputs": [],
   "source": [
    "def enumerate_events(episodes):\n",
    "    # calculate importance sampling ratio\n",
    "    occurrences = []\n",
    "\n",
    "    for episode_id, sequence in enumerate(episodes):\n",
    "        for time, step in enumerate(sequence):\n",
    "            state, action, reward = step\n",
    "\n",
    "            occurrences.append((episode_id, time, state[0], state[1], action, reward))\n",
    "\n",
    "    occurrences = pl.DataFrame(\n",
    "        occurrences, orient=\"row\", schema=[\"episode\", \"time\", \"player\", \"dealer\", \"action\", \"reward\"]\n",
    "    )\n",
    "    return occurrences"
   ]
  },
  {
   "cell_type": "code",
   "execution_count": 12,
   "metadata": {},
   "outputs": [],
   "source": [
    "def get_action_probabilities(episodes):\n",
    "    action_counts = (\n",
    "        episodes.group_by([\"player\", \"dealer\", \"action\"])\n",
    "        .agg(pl.len().alias(\"count\"))\n",
    "        .with_columns(\n",
    "            pl.sum(\"count\").over([\"player\", \"dealer\"]).alias(\"total\"),\n",
    "        )\n",
    "        .with_columns((pl.col(\"count\") / pl.col(\"total\")).alias(\"probability\"))\n",
    "        .select(\"player\", \"dealer\", \"action\", \"probability\")\n",
    "    )\n",
    "\n",
    "    return action_counts"
   ]
  },
  {
   "cell_type": "code",
   "execution_count": 13,
   "metadata": {},
   "outputs": [],
   "source": [
    "episodes_random = generate_episodes(BlackjackAgent(threshold=17, strategy=\"random\"))\n",
    "episodes_threshold = generate_episodes(\n",
    "    BlackjackAgent(threshold=17, strategy=\"threshold\")\n",
    ")\n",
    "\n",
    "episodes_random_df = enumerate_events(episodes_random)\n",
    "episodes_threshold_df = enumerate_events(episodes_threshold)\n",
    "\n",
    "probabilties_random = get_action_probabilities(episodes_random_df)\n",
    "probabilties_threshold = get_action_probabilities(episodes_threshold_df)\n"
   ]
  },
  {
   "cell_type": "code",
   "execution_count": 14,
   "metadata": {},
   "outputs": [
    {
     "data": {
      "text/html": [
       "<div><style>\n",
       ".dataframe > thead > tr,\n",
       ".dataframe > tbody > tr {\n",
       "  text-align: right;\n",
       "  white-space: pre-wrap;\n",
       "}\n",
       "</style>\n",
       "<small>shape: (360, 6)</small><table border=\"1\" class=\"dataframe\"><thead><tr><th>player</th><th>dealer</th><th>action</th><th>probability</th><th>probability_policy</th><th>importance_sampling_ration</th></tr><tr><td>i64</td><td>i64</td><td>i64</td><td>f64</td><td>f64</td><td>f64</td></tr></thead><tbody><tr><td>5</td><td>2</td><td>0</td><td>0.48</td><td>null</td><td>0.0</td></tr><tr><td>5</td><td>6</td><td>0</td><td>0.651163</td><td>null</td><td>0.0</td></tr><tr><td>17</td><td>1</td><td>1</td><td>0.4811</td><td>null</td><td>0.0</td></tr><tr><td>10</td><td>5</td><td>0</td><td>0.492795</td><td>null</td><td>0.0</td></tr><tr><td>19</td><td>9</td><td>1</td><td>0.498721</td><td>null</td><td>0.0</td></tr><tr><td>&hellip;</td><td>&hellip;</td><td>&hellip;</td><td>&hellip;</td><td>&hellip;</td><td>&hellip;</td></tr><tr><td>19</td><td>2</td><td>1</td><td>0.499355</td><td>null</td><td>0.0</td></tr><tr><td>9</td><td>1</td><td>1</td><td>0.5</td><td>1.0</td><td>2.0</td></tr><tr><td>17</td><td>10</td><td>0</td><td>0.50192</td><td>1.0</td><td>1.992348</td></tr><tr><td>6</td><td>7</td><td>0</td><td>0.431138</td><td>null</td><td>0.0</td></tr><tr><td>13</td><td>1</td><td>1</td><td>0.498258</td><td>1.0</td><td>2.006993</td></tr></tbody></table></div>"
      ],
      "text/plain": [
       "shape: (360, 6)\n",
       "┌────────┬────────┬────────┬─────────────┬────────────────────┬────────────────────────────┐\n",
       "│ player ┆ dealer ┆ action ┆ probability ┆ probability_policy ┆ importance_sampling_ration │\n",
       "│ ---    ┆ ---    ┆ ---    ┆ ---         ┆ ---                ┆ ---                        │\n",
       "│ i64    ┆ i64    ┆ i64    ┆ f64         ┆ f64                ┆ f64                        │\n",
       "╞════════╪════════╪════════╪═════════════╪════════════════════╪════════════════════════════╡\n",
       "│ 5      ┆ 2      ┆ 0      ┆ 0.48        ┆ null               ┆ 0.0                        │\n",
       "│ 5      ┆ 6      ┆ 0      ┆ 0.651163    ┆ null               ┆ 0.0                        │\n",
       "│ 17     ┆ 1      ┆ 1      ┆ 0.4811      ┆ null               ┆ 0.0                        │\n",
       "│ 10     ┆ 5      ┆ 0      ┆ 0.492795    ┆ null               ┆ 0.0                        │\n",
       "│ 19     ┆ 9      ┆ 1      ┆ 0.498721    ┆ null               ┆ 0.0                        │\n",
       "│ …      ┆ …      ┆ …      ┆ …           ┆ …                  ┆ …                          │\n",
       "│ 19     ┆ 2      ┆ 1      ┆ 0.499355    ┆ null               ┆ 0.0                        │\n",
       "│ 9      ┆ 1      ┆ 1      ┆ 0.5         ┆ 1.0                ┆ 2.0                        │\n",
       "│ 17     ┆ 10     ┆ 0      ┆ 0.50192     ┆ 1.0                ┆ 1.992348                   │\n",
       "│ 6      ┆ 7      ┆ 0      ┆ 0.431138    ┆ null               ┆ 0.0                        │\n",
       "│ 13     ┆ 1      ┆ 1      ┆ 0.498258    ┆ 1.0                ┆ 2.006993                   │\n",
       "└────────┴────────┴────────┴─────────────┴────────────────────┴────────────────────────────┘"
      ]
     },
     "execution_count": 14,
     "metadata": {},
     "output_type": "execute_result"
    }
   ],
   "source": [
    "isr_table = (\n",
    "    probabilties_random.join(\n",
    "        probabilties_threshold,\n",
    "        on=[\"player\", \"dealer\", \"action\"],\n",
    "        suffix=\"_policy\",\n",
    "        how=\"full\",\n",
    "    )\n",
    "    .drop([\"player_policy\", \"dealer_policy\", \"action_policy\"])\n",
    "    .with_columns(\n",
    "        (pl.col(\"probability_policy\") / pl.col(\"probability\"))\n",
    "        .fill_null(0)\n",
    "        .alias(\"importance_sampling_ration\")\n",
    "    )\n",
    ")\n",
    "\n",
    "assert (\n",
    "    isr_table.null_count()[\"probability\"][0] == 0\n",
    "), \"control policy must have coverage\"\n",
    "\n",
    "# importance_sampling_ration corresponds to pi(A/S) / b(A/S) in the book\n",
    "isr_table\n"
   ]
  },
  {
   "cell_type": "code",
   "execution_count": 15,
   "metadata": {},
   "outputs": [
    {
     "data": {
      "text/html": [
       "<div><style>\n",
       ".dataframe > thead > tr,\n",
       ".dataframe > tbody > tr {\n",
       "  text-align: right;\n",
       "  white-space: pre-wrap;\n",
       "}\n",
       "</style>\n",
       "<small>shape: (137_635, 5)</small><table border=\"1\" class=\"dataframe\"><thead><tr><th>episode_id</th><th>player</th><th>dealer</th><th>reward</th><th>rho_t_T</th></tr><tr><td>i64</td><td>i64</td><td>i64</td><td>f64</td><td>f64</td></tr></thead><tbody><tr><td>26108</td><td>6</td><td>6</td><td>-1.0</td><td>0.0</td></tr><tr><td>60576</td><td>18</td><td>7</td><td>1.0</td><td>1.977995</td></tr><tr><td>73536</td><td>18</td><td>3</td><td>1.0</td><td>2.004566</td></tr><tr><td>73536</td><td>18</td><td>3</td><td>0.0</td><td>2.004566</td></tr><tr><td>79184</td><td>16</td><td>7</td><td>-1.0</td><td>1.924276</td></tr><tr><td>&hellip;</td><td>&hellip;</td><td>&hellip;</td><td>&hellip;</td><td>&hellip;</td></tr><tr><td>74173</td><td>16</td><td>10</td><td>-1.0</td><td>1.964407</td></tr><tr><td>99870</td><td>16</td><td>7</td><td>-1.0</td><td>1.924276</td></tr><tr><td>27510</td><td>7</td><td>10</td><td>-1.0</td><td>0.0</td></tr><tr><td>52299</td><td>21</td><td>4</td><td>1.0</td><td>2.060274</td></tr><tr><td>52299</td><td>13</td><td>4</td><td>0.0</td><td>4.037495</td></tr></tbody></table></div>"
      ],
      "text/plain": [
       "shape: (137_635, 5)\n",
       "┌────────────┬────────┬────────┬────────┬──────────┐\n",
       "│ episode_id ┆ player ┆ dealer ┆ reward ┆ rho_t_T  │\n",
       "│ ---        ┆ ---    ┆ ---    ┆ ---    ┆ ---      │\n",
       "│ i64        ┆ i64    ┆ i64    ┆ f64    ┆ f64      │\n",
       "╞════════════╪════════╪════════╪════════╪══════════╡\n",
       "│ 26108      ┆ 6      ┆ 6      ┆ -1.0   ┆ 0.0      │\n",
       "│ 60576      ┆ 18     ┆ 7      ┆ 1.0    ┆ 1.977995 │\n",
       "│ 73536      ┆ 18     ┆ 3      ┆ 1.0    ┆ 2.004566 │\n",
       "│ 73536      ┆ 18     ┆ 3      ┆ 0.0    ┆ 2.004566 │\n",
       "│ 79184      ┆ 16     ┆ 7      ┆ -1.0   ┆ 1.924276 │\n",
       "│ …          ┆ …      ┆ …      ┆ …      ┆ …        │\n",
       "│ 74173      ┆ 16     ┆ 10     ┆ -1.0   ┆ 1.964407 │\n",
       "│ 99870      ┆ 16     ┆ 7      ┆ -1.0   ┆ 1.924276 │\n",
       "│ 27510      ┆ 7      ┆ 10     ┆ -1.0   ┆ 0.0      │\n",
       "│ 52299      ┆ 21     ┆ 4      ┆ 1.0    ┆ 2.060274 │\n",
       "│ 52299      ┆ 13     ┆ 4      ┆ 0.0    ┆ 4.037495 │\n",
       "└────────────┴────────┴────────┴────────┴──────────┘"
      ]
     },
     "execution_count": 15,
     "metadata": {},
     "output_type": "execute_result"
    }
   ],
   "source": [
    "episodes_random_df_with_isr = episodes_random_df.join(\n",
    "    isr_table.drop(\"probability\", \"probability_policy\"),\n",
    "    on=[\"player\", \"dealer\", \"action\"],\n",
    "    how=\"left\",\n",
    ")\n",
    "\n",
    "results = []\n",
    "for episode_id, episode in episodes_random_df_with_isr.group_by(\"episode\"):\n",
    "    episode_with_isr = episode.sort(\"time\", descending=True)\n",
    "\n",
    "    for t in range(0, len(episode_with_isr)):\n",
    "        Gt = episode_with_isr[t][\"reward\"][0]\n",
    "        rho_t_T = episode_with_isr[:t+1][\"importance_sampling_ration\"].sum()\n",
    "        player = episode_with_isr[t][\"player\"][0]\n",
    "        dealer = episode_with_isr[t][\"dealer\"][0]\n",
    "\n",
    "        results.append((episode_id[0], player, dealer, Gt, rho_t_T))\n",
    "\n",
    "results_df = pl.DataFrame(\n",
    "    results, orient=\"row\", schema=[\"episode_id\", \"player\", \"dealer\", \"reward\", \"rho_t_T\"]\n",
    ")\n",
    "\n",
    "results_df"
   ]
  },
  {
   "cell_type": "code",
   "execution_count": 16,
   "metadata": {},
   "outputs": [
    {
     "data": {
      "text/html": [
       "<div><style>\n",
       ".dataframe > thead > tr,\n",
       ".dataframe > tbody > tr {\n",
       "  text-align: right;\n",
       "  white-space: pre-wrap;\n",
       "}\n",
       "</style>\n",
       "<small>shape: (180, 7)</small><table border=\"1\" class=\"dataframe\"><thead><tr><th>player</th><th>dealer</th><th>visit_count_state</th><th>weighted_denominator</th><th>reward</th><th>value_is</th><th>value_wis</th></tr><tr><td>i64</td><td>i64</td><td>u32</td><td>f64</td><td>f64</td><td>f64</td><td>f64</td></tr></thead><tbody><tr><td>4</td><td>1</td><td>36</td><td>67.415503</td><td>0.0</td><td>0.0</td><td>0.0</td></tr><tr><td>4</td><td>2</td><td>49</td><td>79.372632</td><td>0.0</td><td>0.0</td><td>0.0</td></tr><tr><td>4</td><td>3</td><td>46</td><td>96.457535</td><td>0.0</td><td>0.0</td><td>0.0</td></tr><tr><td>4</td><td>4</td><td>55</td><td>104.888068</td><td>0.0</td><td>0.0</td><td>0.0</td></tr><tr><td>4</td><td>5</td><td>54</td><td>87.643187</td><td>0.0</td><td>0.0</td><td>0.0</td></tr><tr><td>&hellip;</td><td>&hellip;</td><td>&hellip;</td><td>&hellip;</td><td>&hellip;</td><td>&hellip;</td><td>&hellip;</td></tr><tr><td>21</td><td>6</td><td>836</td><td>1108.143512</td><td>768.0</td><td>0.91866</td><td>0.693051</td></tr><tr><td>21</td><td>7</td><td>848</td><td>1101.346931</td><td>784.4</td><td>0.925</td><td>0.712219</td></tr><tr><td>21</td><td>8</td><td>843</td><td>1062.442671</td><td>785.341981</td><td>0.931604</td><td>0.739185</td></tr><tr><td>21</td><td>9</td><td>751</td><td>968.204434</td><td>690.997423</td><td>0.920103</td><td>0.71369</td></tr><tr><td>21</td><td>10</td><td>3313</td><td>4242.365554</td><td>2931.196951</td><td>0.884756</td><td>0.690935</td></tr></tbody></table></div>"
      ],
      "text/plain": [
       "shape: (180, 7)\n",
       "┌────────┬────────┬───────────────────┬──────────────────────┬─────────────┬──────────┬───────────┐\n",
       "│ player ┆ dealer ┆ visit_count_state ┆ weighted_denominator ┆ reward      ┆ value_is ┆ value_wis │\n",
       "│ ---    ┆ ---    ┆ ---               ┆ ---                  ┆ ---         ┆ ---      ┆ ---       │\n",
       "│ i64    ┆ i64    ┆ u32               ┆ f64                  ┆ f64         ┆ f64      ┆ f64       │\n",
       "╞════════╪════════╪═══════════════════╪══════════════════════╪═════════════╪══════════╪═══════════╡\n",
       "│ 4      ┆ 1      ┆ 36                ┆ 67.415503            ┆ 0.0         ┆ 0.0      ┆ 0.0       │\n",
       "│ 4      ┆ 2      ┆ 49                ┆ 79.372632            ┆ 0.0         ┆ 0.0      ┆ 0.0       │\n",
       "│ 4      ┆ 3      ┆ 46                ┆ 96.457535            ┆ 0.0         ┆ 0.0      ┆ 0.0       │\n",
       "│ 4      ┆ 4      ┆ 55                ┆ 104.888068           ┆ 0.0         ┆ 0.0      ┆ 0.0       │\n",
       "│ 4      ┆ 5      ┆ 54                ┆ 87.643187            ┆ 0.0         ┆ 0.0      ┆ 0.0       │\n",
       "│ …      ┆ …      ┆ …                 ┆ …                    ┆ …           ┆ …        ┆ …         │\n",
       "│ 21     ┆ 6      ┆ 836               ┆ 1108.143512          ┆ 768.0       ┆ 0.91866  ┆ 0.693051  │\n",
       "│ 21     ┆ 7      ┆ 848               ┆ 1101.346931          ┆ 784.4       ┆ 0.925    ┆ 0.712219  │\n",
       "│ 21     ┆ 8      ┆ 843               ┆ 1062.442671          ┆ 785.341981  ┆ 0.931604 ┆ 0.739185  │\n",
       "│ 21     ┆ 9      ┆ 751               ┆ 968.204434           ┆ 690.997423  ┆ 0.920103 ┆ 0.71369   │\n",
       "│ 21     ┆ 10     ┆ 3313              ┆ 4242.365554          ┆ 2931.196951 ┆ 0.884756 ┆ 0.690935  │\n",
       "└────────┴────────┴───────────────────┴──────────────────────┴─────────────┴──────────┴───────────┘"
      ]
     },
     "execution_count": 16,
     "metadata": {},
     "output_type": "execute_result"
    }
   ],
   "source": [
    "state_values = (\n",
    "    results_df.with_columns(\n",
    "        (pl.col(\"reward\") * pl.col(\"rho_t_T\")).alias(\"reward_contribution\")\n",
    "    )\n",
    "    .group_by(\"player\", \"dealer\")\n",
    "    .agg(\n",
    "        pl.count(\"reward\").alias(\"visit_count_state\"),\n",
    "        pl.sum(\"rho_t_T\").alias(\"weighted_denominator\"),\n",
    "        pl.sum(\"reward_contribution\").alias(\"reward\"),\n",
    "    )\n",
    "    .with_columns(\n",
    "        (pl.col(\"reward\") / pl.col(\"visit_count_state\")).alias(\"value_is\"),\n",
    "        (pl.col(\"reward\") / pl.col(\"weighted_denominator\")).alias(\"value_wis\"),\n",
    "    )\n",
    "    .sort(\"player\", \"dealer\")\n",
    ")\n",
    "\n",
    "state_values"
   ]
  },
  {
   "cell_type": "code",
   "execution_count": 17,
   "metadata": {},
   "outputs": [],
   "source": [
    "def plot_surface_from_df(df, x_col, y_col, z_col, title=\"\"):\n",
    "    z = (\n",
    "        df.pivot(index=x_col, on=y_col, values=z_col)\n",
    "        .drop(\"player\")\n",
    "        .to_numpy()\n",
    "    )\n",
    "\n",
    "    x = np.arange(1, 11)\n",
    "    y = np.arange(4, 22)\n",
    "\n",
    "    fig = go.Figure(data=[go.Surface(x=x, y=y, z=z)])\n",
    "\n",
    "    fig.update_layout(\n",
    "        title=title,\n",
    "        width=500,\n",
    "        height=500,\n",
    "        margin=dict(l=65, r=50, b=65, t=90),\n",
    "        scene=dict(\n",
    "            xaxis_title=x_col,\n",
    "            yaxis_title=y_col,\n",
    "            zaxis_title=z_col,\n",
    "        ),\n",
    "    )\n",
    "    fig.show()\n"
   ]
  },
  {
   "cell_type": "code",
   "execution_count": 18,
   "metadata": {},
   "outputs": [
    {
     "data": {
      "application/vnd.plotly.v1+json": {
       "config": {
        "plotlyServerURL": "https://plot.ly"
       },
       "data": [
        {
         "type": "surface",
         "x": [
          1,
          2,
          3,
          4,
          5,
          6,
          7,
          8,
          9,
          10
         ],
         "y": [
          4,
          5,
          6,
          7,
          8,
          9,
          10,
          11,
          12,
          13,
          14,
          15,
          16,
          17,
          18,
          19,
          20,
          21
         ],
         "z": [
          [
           0,
           0,
           0,
           0,
           0,
           0,
           0,
           0,
           0,
           0
          ],
          [
           0,
           0,
           0,
           0,
           0,
           0,
           0,
           0,
           0,
           0
          ],
          [
           0,
           0,
           0,
           0,
           0,
           0,
           0,
           0,
           0,
           0
          ],
          [
           0,
           0,
           0,
           0,
           0,
           0,
           0,
           0,
           0,
           0
          ],
          [
           0,
           0,
           0,
           0,
           0,
           0,
           0,
           0,
           0,
           0
          ],
          [
           0,
           0,
           0,
           0,
           0,
           0,
           0,
           0,
           0,
           0
          ],
          [
           0,
           0,
           0,
           0,
           0,
           0,
           0,
           0,
           0,
           0
          ],
          [
           0,
           0,
           0,
           0,
           0,
           0,
           0,
           0,
           0,
           0
          ],
          [
           -0.2823529411764701,
           -0.29577464788732394,
           -0.30523917995444155,
           -0.291390728476822,
           -0.2783251231527091,
           -0.3025404157043886,
           -0.2530413625304139,
           -0.28506787330316746,
           -0.3133333333333329,
           -0.3040901007705982
          ],
          [
           -0.3333333333333342,
           -0.3393574297188754,
           -0.33186813186813213,
           -0.33712984054669587,
           -0.3832923832923837,
           -0.32897603485838706,
           -0.3521126760563378,
           -0.38901601830663474,
           -0.3447537473233407,
           -0.33664459161147964
          ],
          [
           -0.42672413793103486,
           -0.44604316546762524,
           -0.4044444444444435,
           -0.4195121951219505,
           -0.46170678336980125,
           -0.44731182795698704,
           -0.413716814159291,
           -0.3982102908277399,
           -0.4318181818181811,
           -0.416666666666667
          ],
          [
           -0.4840909090909089,
           -0.45958429561200786,
           -0.45777777777777956,
           -0.49040511727078717,
           -0.5011135857461054,
           -0.49278846153846023,
           -0.4541387024608505,
           -0.5081585081585068,
           -0.4702842377260988,
           -0.47229994404029363
          ],
          [
           -0.5447941888619827,
           -0.5521064301552135,
           -0.5259593679458223,
           -0.5440180586907422,
           -0.5547785547785538,
           -0.5275229357798177,
           -0.5144766146993338,
           -0.5787139689578723,
           -0.518099547511309,
           -0.5237288135593146
          ],
          [
           -0.693156732891827,
           -0.15571776155717781,
           -0.15277777777777796,
           -0.043902439024390255,
           -0.06598984771573606,
           -0.02863961813842482,
           -0.04038004750593825,
           -0.40972222222222376,
           -0.4557235421166314,
           -0.4579164214243591
          ],
          [
           -0.408163265306123,
           0.1588089330024812,
           0.15753424657534254,
           0.20967741935483855,
           0.21534653465346576,
           0.3281249999999995,
           0.34718826405867864,
           0.1291866028708133,
           -0.13443396226415077,
           -0.2475124378109446
          ],
          [
           -0.14136125654450266,
           0.41494845360824845,
           0.34825870646766194,
           0.5183374083129566,
           0.3860589812332453,
           0.4553990610328622,
           0.5956937799043094,
           0.5642317380352634,
           0.32397959183673486,
           -0.024278215223097095
          ],
          [
           0.11147011308562188,
           0.6254180602006685,
           0.6583184257602821,
           0.6586538461538494,
           0.6762225969645881,
           0.71500843170321,
           0.7669421487603234,
           0.7996661101836493,
           0.754782608695657,
           0.4294068504594865
          ],
          [
           0.6690997566909952,
           0.895890410958907,
           0.8776978417266238,
           0.8931506849315065,
           0.9002433090024397,
           0.9186602870813397,
           0.924999999999994,
           0.9316037735849099,
           0.9201030927835009,
           0.8847560975610008
          ]
         ]
        }
       ],
       "layout": {
        "height": 500,
        "margin": {
         "b": 65,
         "l": 65,
         "r": 50,
         "t": 90
        },
        "scene": {
         "xaxis": {
          "title": {
           "text": "player"
          }
         },
         "yaxis": {
          "title": {
           "text": "dealer"
          }
         },
         "zaxis": {
          "title": {
           "text": "value_is"
          }
         }
        },
        "template": {
         "data": {
          "bar": [
           {
            "error_x": {
             "color": "#2a3f5f"
            },
            "error_y": {
             "color": "#2a3f5f"
            },
            "marker": {
             "line": {
              "color": "#E5ECF6",
              "width": 0.5
             },
             "pattern": {
              "fillmode": "overlay",
              "size": 10,
              "solidity": 0.2
             }
            },
            "type": "bar"
           }
          ],
          "barpolar": [
           {
            "marker": {
             "line": {
              "color": "#E5ECF6",
              "width": 0.5
             },
             "pattern": {
              "fillmode": "overlay",
              "size": 10,
              "solidity": 0.2
             }
            },
            "type": "barpolar"
           }
          ],
          "carpet": [
           {
            "aaxis": {
             "endlinecolor": "#2a3f5f",
             "gridcolor": "white",
             "linecolor": "white",
             "minorgridcolor": "white",
             "startlinecolor": "#2a3f5f"
            },
            "baxis": {
             "endlinecolor": "#2a3f5f",
             "gridcolor": "white",
             "linecolor": "white",
             "minorgridcolor": "white",
             "startlinecolor": "#2a3f5f"
            },
            "type": "carpet"
           }
          ],
          "choropleth": [
           {
            "colorbar": {
             "outlinewidth": 0,
             "ticks": ""
            },
            "type": "choropleth"
           }
          ],
          "contour": [
           {
            "colorbar": {
             "outlinewidth": 0,
             "ticks": ""
            },
            "colorscale": [
             [
              0,
              "#0d0887"
             ],
             [
              0.1111111111111111,
              "#46039f"
             ],
             [
              0.2222222222222222,
              "#7201a8"
             ],
             [
              0.3333333333333333,
              "#9c179e"
             ],
             [
              0.4444444444444444,
              "#bd3786"
             ],
             [
              0.5555555555555556,
              "#d8576b"
             ],
             [
              0.6666666666666666,
              "#ed7953"
             ],
             [
              0.7777777777777778,
              "#fb9f3a"
             ],
             [
              0.8888888888888888,
              "#fdca26"
             ],
             [
              1,
              "#f0f921"
             ]
            ],
            "type": "contour"
           }
          ],
          "contourcarpet": [
           {
            "colorbar": {
             "outlinewidth": 0,
             "ticks": ""
            },
            "type": "contourcarpet"
           }
          ],
          "heatmap": [
           {
            "colorbar": {
             "outlinewidth": 0,
             "ticks": ""
            },
            "colorscale": [
             [
              0,
              "#0d0887"
             ],
             [
              0.1111111111111111,
              "#46039f"
             ],
             [
              0.2222222222222222,
              "#7201a8"
             ],
             [
              0.3333333333333333,
              "#9c179e"
             ],
             [
              0.4444444444444444,
              "#bd3786"
             ],
             [
              0.5555555555555556,
              "#d8576b"
             ],
             [
              0.6666666666666666,
              "#ed7953"
             ],
             [
              0.7777777777777778,
              "#fb9f3a"
             ],
             [
              0.8888888888888888,
              "#fdca26"
             ],
             [
              1,
              "#f0f921"
             ]
            ],
            "type": "heatmap"
           }
          ],
          "heatmapgl": [
           {
            "colorbar": {
             "outlinewidth": 0,
             "ticks": ""
            },
            "colorscale": [
             [
              0,
              "#0d0887"
             ],
             [
              0.1111111111111111,
              "#46039f"
             ],
             [
              0.2222222222222222,
              "#7201a8"
             ],
             [
              0.3333333333333333,
              "#9c179e"
             ],
             [
              0.4444444444444444,
              "#bd3786"
             ],
             [
              0.5555555555555556,
              "#d8576b"
             ],
             [
              0.6666666666666666,
              "#ed7953"
             ],
             [
              0.7777777777777778,
              "#fb9f3a"
             ],
             [
              0.8888888888888888,
              "#fdca26"
             ],
             [
              1,
              "#f0f921"
             ]
            ],
            "type": "heatmapgl"
           }
          ],
          "histogram": [
           {
            "marker": {
             "pattern": {
              "fillmode": "overlay",
              "size": 10,
              "solidity": 0.2
             }
            },
            "type": "histogram"
           }
          ],
          "histogram2d": [
           {
            "colorbar": {
             "outlinewidth": 0,
             "ticks": ""
            },
            "colorscale": [
             [
              0,
              "#0d0887"
             ],
             [
              0.1111111111111111,
              "#46039f"
             ],
             [
              0.2222222222222222,
              "#7201a8"
             ],
             [
              0.3333333333333333,
              "#9c179e"
             ],
             [
              0.4444444444444444,
              "#bd3786"
             ],
             [
              0.5555555555555556,
              "#d8576b"
             ],
             [
              0.6666666666666666,
              "#ed7953"
             ],
             [
              0.7777777777777778,
              "#fb9f3a"
             ],
             [
              0.8888888888888888,
              "#fdca26"
             ],
             [
              1,
              "#f0f921"
             ]
            ],
            "type": "histogram2d"
           }
          ],
          "histogram2dcontour": [
           {
            "colorbar": {
             "outlinewidth": 0,
             "ticks": ""
            },
            "colorscale": [
             [
              0,
              "#0d0887"
             ],
             [
              0.1111111111111111,
              "#46039f"
             ],
             [
              0.2222222222222222,
              "#7201a8"
             ],
             [
              0.3333333333333333,
              "#9c179e"
             ],
             [
              0.4444444444444444,
              "#bd3786"
             ],
             [
              0.5555555555555556,
              "#d8576b"
             ],
             [
              0.6666666666666666,
              "#ed7953"
             ],
             [
              0.7777777777777778,
              "#fb9f3a"
             ],
             [
              0.8888888888888888,
              "#fdca26"
             ],
             [
              1,
              "#f0f921"
             ]
            ],
            "type": "histogram2dcontour"
           }
          ],
          "mesh3d": [
           {
            "colorbar": {
             "outlinewidth": 0,
             "ticks": ""
            },
            "type": "mesh3d"
           }
          ],
          "parcoords": [
           {
            "line": {
             "colorbar": {
              "outlinewidth": 0,
              "ticks": ""
             }
            },
            "type": "parcoords"
           }
          ],
          "pie": [
           {
            "automargin": true,
            "type": "pie"
           }
          ],
          "scatter": [
           {
            "fillpattern": {
             "fillmode": "overlay",
             "size": 10,
             "solidity": 0.2
            },
            "type": "scatter"
           }
          ],
          "scatter3d": [
           {
            "line": {
             "colorbar": {
              "outlinewidth": 0,
              "ticks": ""
             }
            },
            "marker": {
             "colorbar": {
              "outlinewidth": 0,
              "ticks": ""
             }
            },
            "type": "scatter3d"
           }
          ],
          "scattercarpet": [
           {
            "marker": {
             "colorbar": {
              "outlinewidth": 0,
              "ticks": ""
             }
            },
            "type": "scattercarpet"
           }
          ],
          "scattergeo": [
           {
            "marker": {
             "colorbar": {
              "outlinewidth": 0,
              "ticks": ""
             }
            },
            "type": "scattergeo"
           }
          ],
          "scattergl": [
           {
            "marker": {
             "colorbar": {
              "outlinewidth": 0,
              "ticks": ""
             }
            },
            "type": "scattergl"
           }
          ],
          "scattermapbox": [
           {
            "marker": {
             "colorbar": {
              "outlinewidth": 0,
              "ticks": ""
             }
            },
            "type": "scattermapbox"
           }
          ],
          "scatterpolar": [
           {
            "marker": {
             "colorbar": {
              "outlinewidth": 0,
              "ticks": ""
             }
            },
            "type": "scatterpolar"
           }
          ],
          "scatterpolargl": [
           {
            "marker": {
             "colorbar": {
              "outlinewidth": 0,
              "ticks": ""
             }
            },
            "type": "scatterpolargl"
           }
          ],
          "scatterternary": [
           {
            "marker": {
             "colorbar": {
              "outlinewidth": 0,
              "ticks": ""
             }
            },
            "type": "scatterternary"
           }
          ],
          "surface": [
           {
            "colorbar": {
             "outlinewidth": 0,
             "ticks": ""
            },
            "colorscale": [
             [
              0,
              "#0d0887"
             ],
             [
              0.1111111111111111,
              "#46039f"
             ],
             [
              0.2222222222222222,
              "#7201a8"
             ],
             [
              0.3333333333333333,
              "#9c179e"
             ],
             [
              0.4444444444444444,
              "#bd3786"
             ],
             [
              0.5555555555555556,
              "#d8576b"
             ],
             [
              0.6666666666666666,
              "#ed7953"
             ],
             [
              0.7777777777777778,
              "#fb9f3a"
             ],
             [
              0.8888888888888888,
              "#fdca26"
             ],
             [
              1,
              "#f0f921"
             ]
            ],
            "type": "surface"
           }
          ],
          "table": [
           {
            "cells": {
             "fill": {
              "color": "#EBF0F8"
             },
             "line": {
              "color": "white"
             }
            },
            "header": {
             "fill": {
              "color": "#C8D4E3"
             },
             "line": {
              "color": "white"
             }
            },
            "type": "table"
           }
          ]
         },
         "layout": {
          "annotationdefaults": {
           "arrowcolor": "#2a3f5f",
           "arrowhead": 0,
           "arrowwidth": 1
          },
          "autotypenumbers": "strict",
          "coloraxis": {
           "colorbar": {
            "outlinewidth": 0,
            "ticks": ""
           }
          },
          "colorscale": {
           "diverging": [
            [
             0,
             "#8e0152"
            ],
            [
             0.1,
             "#c51b7d"
            ],
            [
             0.2,
             "#de77ae"
            ],
            [
             0.3,
             "#f1b6da"
            ],
            [
             0.4,
             "#fde0ef"
            ],
            [
             0.5,
             "#f7f7f7"
            ],
            [
             0.6,
             "#e6f5d0"
            ],
            [
             0.7,
             "#b8e186"
            ],
            [
             0.8,
             "#7fbc41"
            ],
            [
             0.9,
             "#4d9221"
            ],
            [
             1,
             "#276419"
            ]
           ],
           "sequential": [
            [
             0,
             "#0d0887"
            ],
            [
             0.1111111111111111,
             "#46039f"
            ],
            [
             0.2222222222222222,
             "#7201a8"
            ],
            [
             0.3333333333333333,
             "#9c179e"
            ],
            [
             0.4444444444444444,
             "#bd3786"
            ],
            [
             0.5555555555555556,
             "#d8576b"
            ],
            [
             0.6666666666666666,
             "#ed7953"
            ],
            [
             0.7777777777777778,
             "#fb9f3a"
            ],
            [
             0.8888888888888888,
             "#fdca26"
            ],
            [
             1,
             "#f0f921"
            ]
           ],
           "sequentialminus": [
            [
             0,
             "#0d0887"
            ],
            [
             0.1111111111111111,
             "#46039f"
            ],
            [
             0.2222222222222222,
             "#7201a8"
            ],
            [
             0.3333333333333333,
             "#9c179e"
            ],
            [
             0.4444444444444444,
             "#bd3786"
            ],
            [
             0.5555555555555556,
             "#d8576b"
            ],
            [
             0.6666666666666666,
             "#ed7953"
            ],
            [
             0.7777777777777778,
             "#fb9f3a"
            ],
            [
             0.8888888888888888,
             "#fdca26"
            ],
            [
             1,
             "#f0f921"
            ]
           ]
          },
          "colorway": [
           "#636efa",
           "#EF553B",
           "#00cc96",
           "#ab63fa",
           "#FFA15A",
           "#19d3f3",
           "#FF6692",
           "#B6E880",
           "#FF97FF",
           "#FECB52"
          ],
          "font": {
           "color": "#2a3f5f"
          },
          "geo": {
           "bgcolor": "white",
           "lakecolor": "white",
           "landcolor": "#E5ECF6",
           "showlakes": true,
           "showland": true,
           "subunitcolor": "white"
          },
          "hoverlabel": {
           "align": "left"
          },
          "hovermode": "closest",
          "mapbox": {
           "style": "light"
          },
          "paper_bgcolor": "white",
          "plot_bgcolor": "#E5ECF6",
          "polar": {
           "angularaxis": {
            "gridcolor": "white",
            "linecolor": "white",
            "ticks": ""
           },
           "bgcolor": "#E5ECF6",
           "radialaxis": {
            "gridcolor": "white",
            "linecolor": "white",
            "ticks": ""
           }
          },
          "scene": {
           "xaxis": {
            "backgroundcolor": "#E5ECF6",
            "gridcolor": "white",
            "gridwidth": 2,
            "linecolor": "white",
            "showbackground": true,
            "ticks": "",
            "zerolinecolor": "white"
           },
           "yaxis": {
            "backgroundcolor": "#E5ECF6",
            "gridcolor": "white",
            "gridwidth": 2,
            "linecolor": "white",
            "showbackground": true,
            "ticks": "",
            "zerolinecolor": "white"
           },
           "zaxis": {
            "backgroundcolor": "#E5ECF6",
            "gridcolor": "white",
            "gridwidth": 2,
            "linecolor": "white",
            "showbackground": true,
            "ticks": "",
            "zerolinecolor": "white"
           }
          },
          "shapedefaults": {
           "line": {
            "color": "#2a3f5f"
           }
          },
          "ternary": {
           "aaxis": {
            "gridcolor": "white",
            "linecolor": "white",
            "ticks": ""
           },
           "baxis": {
            "gridcolor": "white",
            "linecolor": "white",
            "ticks": ""
           },
           "bgcolor": "#E5ECF6",
           "caxis": {
            "gridcolor": "white",
            "linecolor": "white",
            "ticks": ""
           }
          },
          "title": {
           "x": 0.05
          },
          "xaxis": {
           "automargin": true,
           "gridcolor": "white",
           "linecolor": "white",
           "ticks": "",
           "title": {
            "standoff": 15
           },
           "zerolinecolor": "white",
           "zerolinewidth": 2
          },
          "yaxis": {
           "automargin": true,
           "gridcolor": "white",
           "linecolor": "white",
           "ticks": "",
           "title": {
            "standoff": 15
           },
           "zerolinecolor": "white",
           "zerolinewidth": 2
          }
         }
        },
        "title": {
         "text": "Importance Sampling"
        },
        "width": 500
       }
      }
     },
     "metadata": {},
     "output_type": "display_data"
    },
    {
     "data": {
      "application/vnd.plotly.v1+json": {
       "config": {
        "plotlyServerURL": "https://plot.ly"
       },
       "data": [
        {
         "type": "surface",
         "x": [
          1,
          2,
          3,
          4,
          5,
          6,
          7,
          8,
          9,
          10
         ],
         "y": [
          4,
          5,
          6,
          7,
          8,
          9,
          10,
          11,
          12,
          13,
          14,
          15,
          16,
          17,
          18,
          19,
          20,
          21
         ],
         "z": [
          [
           0,
           0,
           0,
           0,
           0,
           0,
           0,
           0,
           0,
           0
          ],
          [
           0,
           0,
           0,
           0,
           0,
           0,
           0,
           0,
           0,
           0
          ],
          [
           0,
           0,
           0,
           0,
           0,
           0,
           0,
           0,
           0,
           0
          ],
          [
           0,
           0,
           0,
           0,
           0,
           0,
           0,
           0,
           0,
           0
          ],
          [
           0,
           0,
           0,
           0,
           0,
           0,
           0,
           0,
           0,
           0
          ],
          [
           0,
           0,
           0,
           0,
           0,
           0,
           0,
           0,
           0,
           0
          ],
          [
           0,
           0,
           0,
           0,
           0,
           0,
           0,
           0,
           0,
           0
          ],
          [
           0,
           0,
           0,
           0,
           0,
           0,
           0,
           0,
           0,
           0
          ],
          [
           -0.1949778302323216,
           -0.20804989194470705,
           -0.22146977683260982,
           -0.2026613795954395,
           -0.2010212170028927,
           -0.21490868975177388,
           -0.1738290783206272,
           -0.19736099004335536,
           -0.21770766763907476,
           -0.21288058753565078
          ],
          [
           -0.23523689453182853,
           -0.23802213126834473,
           -0.23920383285447325,
           -0.2460569924977645,
           -0.2860755627842735,
           -0.2310440775262634,
           -0.24754630850606602,
           -0.2852376598421381,
           -0.24736691639148467,
           -0.2389190786023672
          ],
          [
           -0.3187448112374395,
           -0.3339062732095356,
           -0.2981496375865125,
           -0.312555888839049,
           -0.34259995713765923,
           -0.3456891020714638,
           -0.305130451898365,
           -0.29592555788841385,
           -0.3316718991280397,
           -0.31324878215452545
          ],
          [
           -0.37593072599897587,
           -0.3457530067247308,
           -0.35047175214494164,
           -0.37357832171883265,
           -0.39508367289526514,
           -0.38068810137409187,
           -0.3506661185416723,
           -0.39438419011073095,
           -0.3632446475849093,
           -0.35976747307349566
          ],
          [
           -0.44146421852946005,
           -0.44793578888699204,
           -0.4124281477410684,
           -0.41843206268245325,
           -0.4344606664053758,
           -0.4105404268080856,
           -0.3955970733312148,
           -0.4596984113799384,
           -0.3966231384878664,
           -0.409136175072912
          ],
          [
           -0.5856755215904685,
           -0.1262424727548857,
           -0.12621119234518208,
           -0.03566351224941672,
           -0.05540539254248889,
           -0.022987432020905748,
           -0.03211199180651766,
           -0.3325040419387412,
           -0.37318832244539024,
           -0.37195504291532333
          ],
          [
           -0.34615978928379165,
           0.1302221413140423,
           0.1310650637302034,
           0.1759185406926656,
           0.1833994368725137,
           0.284998617714506,
           0.2897851040621188,
           0.10963690966798036,
           -0.11571026488710716,
           -0.20504128850932052
          ],
          [
           -0.12052717201305277,
           0.3584294431486017,
           0.2952379439275149,
           0.4476220177852907,
           0.3353271906152291,
           0.39586607656470657,
           0.5241133659239796,
           0.4865556630318575,
           0.2764226897545931,
           -0.020790046111926773
          ],
          [
           0.1003081255121506,
           0.5717914355559551,
           0.5953889893180284,
           0.5929890742088508,
           0.6305533455290788,
           0.6451490414148203,
           0.7027180471548392,
           0.7318165806226326,
           0.682323181392953,
           0.39109304412325885
          ],
          [
           0.5282341714069378,
           0.6721892281279639,
           0.6762953867391833,
           0.689253468048389,
           0.6870301427909655,
           0.6930510277769223,
           0.7122188095839728,
           0.7391852781068858,
           0.7136895868868902,
           0.690934553847172
          ]
         ]
        }
       ],
       "layout": {
        "height": 500,
        "margin": {
         "b": 65,
         "l": 65,
         "r": 50,
         "t": 90
        },
        "scene": {
         "xaxis": {
          "title": {
           "text": "player"
          }
         },
         "yaxis": {
          "title": {
           "text": "dealer"
          }
         },
         "zaxis": {
          "title": {
           "text": "value_wis"
          }
         }
        },
        "template": {
         "data": {
          "bar": [
           {
            "error_x": {
             "color": "#2a3f5f"
            },
            "error_y": {
             "color": "#2a3f5f"
            },
            "marker": {
             "line": {
              "color": "#E5ECF6",
              "width": 0.5
             },
             "pattern": {
              "fillmode": "overlay",
              "size": 10,
              "solidity": 0.2
             }
            },
            "type": "bar"
           }
          ],
          "barpolar": [
           {
            "marker": {
             "line": {
              "color": "#E5ECF6",
              "width": 0.5
             },
             "pattern": {
              "fillmode": "overlay",
              "size": 10,
              "solidity": 0.2
             }
            },
            "type": "barpolar"
           }
          ],
          "carpet": [
           {
            "aaxis": {
             "endlinecolor": "#2a3f5f",
             "gridcolor": "white",
             "linecolor": "white",
             "minorgridcolor": "white",
             "startlinecolor": "#2a3f5f"
            },
            "baxis": {
             "endlinecolor": "#2a3f5f",
             "gridcolor": "white",
             "linecolor": "white",
             "minorgridcolor": "white",
             "startlinecolor": "#2a3f5f"
            },
            "type": "carpet"
           }
          ],
          "choropleth": [
           {
            "colorbar": {
             "outlinewidth": 0,
             "ticks": ""
            },
            "type": "choropleth"
           }
          ],
          "contour": [
           {
            "colorbar": {
             "outlinewidth": 0,
             "ticks": ""
            },
            "colorscale": [
             [
              0,
              "#0d0887"
             ],
             [
              0.1111111111111111,
              "#46039f"
             ],
             [
              0.2222222222222222,
              "#7201a8"
             ],
             [
              0.3333333333333333,
              "#9c179e"
             ],
             [
              0.4444444444444444,
              "#bd3786"
             ],
             [
              0.5555555555555556,
              "#d8576b"
             ],
             [
              0.6666666666666666,
              "#ed7953"
             ],
             [
              0.7777777777777778,
              "#fb9f3a"
             ],
             [
              0.8888888888888888,
              "#fdca26"
             ],
             [
              1,
              "#f0f921"
             ]
            ],
            "type": "contour"
           }
          ],
          "contourcarpet": [
           {
            "colorbar": {
             "outlinewidth": 0,
             "ticks": ""
            },
            "type": "contourcarpet"
           }
          ],
          "heatmap": [
           {
            "colorbar": {
             "outlinewidth": 0,
             "ticks": ""
            },
            "colorscale": [
             [
              0,
              "#0d0887"
             ],
             [
              0.1111111111111111,
              "#46039f"
             ],
             [
              0.2222222222222222,
              "#7201a8"
             ],
             [
              0.3333333333333333,
              "#9c179e"
             ],
             [
              0.4444444444444444,
              "#bd3786"
             ],
             [
              0.5555555555555556,
              "#d8576b"
             ],
             [
              0.6666666666666666,
              "#ed7953"
             ],
             [
              0.7777777777777778,
              "#fb9f3a"
             ],
             [
              0.8888888888888888,
              "#fdca26"
             ],
             [
              1,
              "#f0f921"
             ]
            ],
            "type": "heatmap"
           }
          ],
          "heatmapgl": [
           {
            "colorbar": {
             "outlinewidth": 0,
             "ticks": ""
            },
            "colorscale": [
             [
              0,
              "#0d0887"
             ],
             [
              0.1111111111111111,
              "#46039f"
             ],
             [
              0.2222222222222222,
              "#7201a8"
             ],
             [
              0.3333333333333333,
              "#9c179e"
             ],
             [
              0.4444444444444444,
              "#bd3786"
             ],
             [
              0.5555555555555556,
              "#d8576b"
             ],
             [
              0.6666666666666666,
              "#ed7953"
             ],
             [
              0.7777777777777778,
              "#fb9f3a"
             ],
             [
              0.8888888888888888,
              "#fdca26"
             ],
             [
              1,
              "#f0f921"
             ]
            ],
            "type": "heatmapgl"
           }
          ],
          "histogram": [
           {
            "marker": {
             "pattern": {
              "fillmode": "overlay",
              "size": 10,
              "solidity": 0.2
             }
            },
            "type": "histogram"
           }
          ],
          "histogram2d": [
           {
            "colorbar": {
             "outlinewidth": 0,
             "ticks": ""
            },
            "colorscale": [
             [
              0,
              "#0d0887"
             ],
             [
              0.1111111111111111,
              "#46039f"
             ],
             [
              0.2222222222222222,
              "#7201a8"
             ],
             [
              0.3333333333333333,
              "#9c179e"
             ],
             [
              0.4444444444444444,
              "#bd3786"
             ],
             [
              0.5555555555555556,
              "#d8576b"
             ],
             [
              0.6666666666666666,
              "#ed7953"
             ],
             [
              0.7777777777777778,
              "#fb9f3a"
             ],
             [
              0.8888888888888888,
              "#fdca26"
             ],
             [
              1,
              "#f0f921"
             ]
            ],
            "type": "histogram2d"
           }
          ],
          "histogram2dcontour": [
           {
            "colorbar": {
             "outlinewidth": 0,
             "ticks": ""
            },
            "colorscale": [
             [
              0,
              "#0d0887"
             ],
             [
              0.1111111111111111,
              "#46039f"
             ],
             [
              0.2222222222222222,
              "#7201a8"
             ],
             [
              0.3333333333333333,
              "#9c179e"
             ],
             [
              0.4444444444444444,
              "#bd3786"
             ],
             [
              0.5555555555555556,
              "#d8576b"
             ],
             [
              0.6666666666666666,
              "#ed7953"
             ],
             [
              0.7777777777777778,
              "#fb9f3a"
             ],
             [
              0.8888888888888888,
              "#fdca26"
             ],
             [
              1,
              "#f0f921"
             ]
            ],
            "type": "histogram2dcontour"
           }
          ],
          "mesh3d": [
           {
            "colorbar": {
             "outlinewidth": 0,
             "ticks": ""
            },
            "type": "mesh3d"
           }
          ],
          "parcoords": [
           {
            "line": {
             "colorbar": {
              "outlinewidth": 0,
              "ticks": ""
             }
            },
            "type": "parcoords"
           }
          ],
          "pie": [
           {
            "automargin": true,
            "type": "pie"
           }
          ],
          "scatter": [
           {
            "fillpattern": {
             "fillmode": "overlay",
             "size": 10,
             "solidity": 0.2
            },
            "type": "scatter"
           }
          ],
          "scatter3d": [
           {
            "line": {
             "colorbar": {
              "outlinewidth": 0,
              "ticks": ""
             }
            },
            "marker": {
             "colorbar": {
              "outlinewidth": 0,
              "ticks": ""
             }
            },
            "type": "scatter3d"
           }
          ],
          "scattercarpet": [
           {
            "marker": {
             "colorbar": {
              "outlinewidth": 0,
              "ticks": ""
             }
            },
            "type": "scattercarpet"
           }
          ],
          "scattergeo": [
           {
            "marker": {
             "colorbar": {
              "outlinewidth": 0,
              "ticks": ""
             }
            },
            "type": "scattergeo"
           }
          ],
          "scattergl": [
           {
            "marker": {
             "colorbar": {
              "outlinewidth": 0,
              "ticks": ""
             }
            },
            "type": "scattergl"
           }
          ],
          "scattermapbox": [
           {
            "marker": {
             "colorbar": {
              "outlinewidth": 0,
              "ticks": ""
             }
            },
            "type": "scattermapbox"
           }
          ],
          "scatterpolar": [
           {
            "marker": {
             "colorbar": {
              "outlinewidth": 0,
              "ticks": ""
             }
            },
            "type": "scatterpolar"
           }
          ],
          "scatterpolargl": [
           {
            "marker": {
             "colorbar": {
              "outlinewidth": 0,
              "ticks": ""
             }
            },
            "type": "scatterpolargl"
           }
          ],
          "scatterternary": [
           {
            "marker": {
             "colorbar": {
              "outlinewidth": 0,
              "ticks": ""
             }
            },
            "type": "scatterternary"
           }
          ],
          "surface": [
           {
            "colorbar": {
             "outlinewidth": 0,
             "ticks": ""
            },
            "colorscale": [
             [
              0,
              "#0d0887"
             ],
             [
              0.1111111111111111,
              "#46039f"
             ],
             [
              0.2222222222222222,
              "#7201a8"
             ],
             [
              0.3333333333333333,
              "#9c179e"
             ],
             [
              0.4444444444444444,
              "#bd3786"
             ],
             [
              0.5555555555555556,
              "#d8576b"
             ],
             [
              0.6666666666666666,
              "#ed7953"
             ],
             [
              0.7777777777777778,
              "#fb9f3a"
             ],
             [
              0.8888888888888888,
              "#fdca26"
             ],
             [
              1,
              "#f0f921"
             ]
            ],
            "type": "surface"
           }
          ],
          "table": [
           {
            "cells": {
             "fill": {
              "color": "#EBF0F8"
             },
             "line": {
              "color": "white"
             }
            },
            "header": {
             "fill": {
              "color": "#C8D4E3"
             },
             "line": {
              "color": "white"
             }
            },
            "type": "table"
           }
          ]
         },
         "layout": {
          "annotationdefaults": {
           "arrowcolor": "#2a3f5f",
           "arrowhead": 0,
           "arrowwidth": 1
          },
          "autotypenumbers": "strict",
          "coloraxis": {
           "colorbar": {
            "outlinewidth": 0,
            "ticks": ""
           }
          },
          "colorscale": {
           "diverging": [
            [
             0,
             "#8e0152"
            ],
            [
             0.1,
             "#c51b7d"
            ],
            [
             0.2,
             "#de77ae"
            ],
            [
             0.3,
             "#f1b6da"
            ],
            [
             0.4,
             "#fde0ef"
            ],
            [
             0.5,
             "#f7f7f7"
            ],
            [
             0.6,
             "#e6f5d0"
            ],
            [
             0.7,
             "#b8e186"
            ],
            [
             0.8,
             "#7fbc41"
            ],
            [
             0.9,
             "#4d9221"
            ],
            [
             1,
             "#276419"
            ]
           ],
           "sequential": [
            [
             0,
             "#0d0887"
            ],
            [
             0.1111111111111111,
             "#46039f"
            ],
            [
             0.2222222222222222,
             "#7201a8"
            ],
            [
             0.3333333333333333,
             "#9c179e"
            ],
            [
             0.4444444444444444,
             "#bd3786"
            ],
            [
             0.5555555555555556,
             "#d8576b"
            ],
            [
             0.6666666666666666,
             "#ed7953"
            ],
            [
             0.7777777777777778,
             "#fb9f3a"
            ],
            [
             0.8888888888888888,
             "#fdca26"
            ],
            [
             1,
             "#f0f921"
            ]
           ],
           "sequentialminus": [
            [
             0,
             "#0d0887"
            ],
            [
             0.1111111111111111,
             "#46039f"
            ],
            [
             0.2222222222222222,
             "#7201a8"
            ],
            [
             0.3333333333333333,
             "#9c179e"
            ],
            [
             0.4444444444444444,
             "#bd3786"
            ],
            [
             0.5555555555555556,
             "#d8576b"
            ],
            [
             0.6666666666666666,
             "#ed7953"
            ],
            [
             0.7777777777777778,
             "#fb9f3a"
            ],
            [
             0.8888888888888888,
             "#fdca26"
            ],
            [
             1,
             "#f0f921"
            ]
           ]
          },
          "colorway": [
           "#636efa",
           "#EF553B",
           "#00cc96",
           "#ab63fa",
           "#FFA15A",
           "#19d3f3",
           "#FF6692",
           "#B6E880",
           "#FF97FF",
           "#FECB52"
          ],
          "font": {
           "color": "#2a3f5f"
          },
          "geo": {
           "bgcolor": "white",
           "lakecolor": "white",
           "landcolor": "#E5ECF6",
           "showlakes": true,
           "showland": true,
           "subunitcolor": "white"
          },
          "hoverlabel": {
           "align": "left"
          },
          "hovermode": "closest",
          "mapbox": {
           "style": "light"
          },
          "paper_bgcolor": "white",
          "plot_bgcolor": "#E5ECF6",
          "polar": {
           "angularaxis": {
            "gridcolor": "white",
            "linecolor": "white",
            "ticks": ""
           },
           "bgcolor": "#E5ECF6",
           "radialaxis": {
            "gridcolor": "white",
            "linecolor": "white",
            "ticks": ""
           }
          },
          "scene": {
           "xaxis": {
            "backgroundcolor": "#E5ECF6",
            "gridcolor": "white",
            "gridwidth": 2,
            "linecolor": "white",
            "showbackground": true,
            "ticks": "",
            "zerolinecolor": "white"
           },
           "yaxis": {
            "backgroundcolor": "#E5ECF6",
            "gridcolor": "white",
            "gridwidth": 2,
            "linecolor": "white",
            "showbackground": true,
            "ticks": "",
            "zerolinecolor": "white"
           },
           "zaxis": {
            "backgroundcolor": "#E5ECF6",
            "gridcolor": "white",
            "gridwidth": 2,
            "linecolor": "white",
            "showbackground": true,
            "ticks": "",
            "zerolinecolor": "white"
           }
          },
          "shapedefaults": {
           "line": {
            "color": "#2a3f5f"
           }
          },
          "ternary": {
           "aaxis": {
            "gridcolor": "white",
            "linecolor": "white",
            "ticks": ""
           },
           "baxis": {
            "gridcolor": "white",
            "linecolor": "white",
            "ticks": ""
           },
           "bgcolor": "#E5ECF6",
           "caxis": {
            "gridcolor": "white",
            "linecolor": "white",
            "ticks": ""
           }
          },
          "title": {
           "x": 0.05
          },
          "xaxis": {
           "automargin": true,
           "gridcolor": "white",
           "linecolor": "white",
           "ticks": "",
           "title": {
            "standoff": 15
           },
           "zerolinecolor": "white",
           "zerolinewidth": 2
          },
          "yaxis": {
           "automargin": true,
           "gridcolor": "white",
           "linecolor": "white",
           "ticks": "",
           "title": {
            "standoff": 15
           },
           "zerolinecolor": "white",
           "zerolinewidth": 2
          }
         }
        },
        "title": {
         "text": "Weighted Importance Sampling"
        },
        "width": 500
       }
      }
     },
     "metadata": {},
     "output_type": "display_data"
    }
   ],
   "source": [
    "x_col = \"player\"\n",
    "y_col = \"dealer\"\n",
    "z_col = \"value_is\"\n",
    "\n",
    "plot_surface_from_df(\n",
    "    state_values, x_col, y_col, \"value_is\", title=\"Importance Sampling\"\n",
    ")\n",
    "\n",
    "plot_surface_from_df(\n",
    "    state_values, x_col, y_col, \"value_wis\", title=\"Weighted Importance Sampling\"\n",
    ")"
   ]
  },
  {
   "cell_type": "markdown",
   "metadata": {},
   "source": []
  },
  {
   "cell_type": "code",
   "execution_count": 20,
   "metadata": {},
   "outputs": [],
   "source": [
    "import plotly.express as px"
   ]
  },
  {
   "cell_type": "code",
   "execution_count": 24,
   "metadata": {},
   "outputs": [
    {
     "data": {
      "application/vnd.plotly.v1+json": {
       "config": {
        "plotlyServerURL": "https://plot.ly"
       },
       "data": [
        {
         "hovertemplate": "delta=%{x}<br>len=%{y}<extra></extra>",
         "legendgroup": "",
         "line": {
          "color": "#636efa",
          "dash": "solid"
         },
         "marker": {
          "symbol": "circle"
         },
         "mode": "lines",
         "name": "",
         "orientation": "h",
         "showlegend": false,
         "type": "scatter",
         "x": [
          -0.13,
          -0.12,
          -0.11,
          -0.1,
          -0.09,
          -0.08,
          -0.06,
          -0.04,
          -0.03,
          -0.02,
          -0.01,
          0,
          0.01,
          0.02,
          0.03,
          0.04,
          0.05,
          0.06,
          0.07,
          0.08,
          0.14,
          0.19,
          0.2,
          0.21,
          0.22,
          0.23
         ],
         "xaxis": "x",
         "y": [
          1,
          7,
          16,
          16,
          9,
          5,
          1,
          1,
          2,
          2,
          4,
          81,
          1,
          1,
          4,
          2,
          5,
          5,
          6,
          1,
          1,
          2,
          2,
          3,
          1,
          1
         ],
         "yaxis": "y"
        }
       ],
       "layout": {
        "legend": {
         "tracegroupgap": 0
        },
        "margin": {
         "t": 60
        },
        "template": {
         "data": {
          "bar": [
           {
            "error_x": {
             "color": "#2a3f5f"
            },
            "error_y": {
             "color": "#2a3f5f"
            },
            "marker": {
             "line": {
              "color": "#E5ECF6",
              "width": 0.5
             },
             "pattern": {
              "fillmode": "overlay",
              "size": 10,
              "solidity": 0.2
             }
            },
            "type": "bar"
           }
          ],
          "barpolar": [
           {
            "marker": {
             "line": {
              "color": "#E5ECF6",
              "width": 0.5
             },
             "pattern": {
              "fillmode": "overlay",
              "size": 10,
              "solidity": 0.2
             }
            },
            "type": "barpolar"
           }
          ],
          "carpet": [
           {
            "aaxis": {
             "endlinecolor": "#2a3f5f",
             "gridcolor": "white",
             "linecolor": "white",
             "minorgridcolor": "white",
             "startlinecolor": "#2a3f5f"
            },
            "baxis": {
             "endlinecolor": "#2a3f5f",
             "gridcolor": "white",
             "linecolor": "white",
             "minorgridcolor": "white",
             "startlinecolor": "#2a3f5f"
            },
            "type": "carpet"
           }
          ],
          "choropleth": [
           {
            "colorbar": {
             "outlinewidth": 0,
             "ticks": ""
            },
            "type": "choropleth"
           }
          ],
          "contour": [
           {
            "colorbar": {
             "outlinewidth": 0,
             "ticks": ""
            },
            "colorscale": [
             [
              0,
              "#0d0887"
             ],
             [
              0.1111111111111111,
              "#46039f"
             ],
             [
              0.2222222222222222,
              "#7201a8"
             ],
             [
              0.3333333333333333,
              "#9c179e"
             ],
             [
              0.4444444444444444,
              "#bd3786"
             ],
             [
              0.5555555555555556,
              "#d8576b"
             ],
             [
              0.6666666666666666,
              "#ed7953"
             ],
             [
              0.7777777777777778,
              "#fb9f3a"
             ],
             [
              0.8888888888888888,
              "#fdca26"
             ],
             [
              1,
              "#f0f921"
             ]
            ],
            "type": "contour"
           }
          ],
          "contourcarpet": [
           {
            "colorbar": {
             "outlinewidth": 0,
             "ticks": ""
            },
            "type": "contourcarpet"
           }
          ],
          "heatmap": [
           {
            "colorbar": {
             "outlinewidth": 0,
             "ticks": ""
            },
            "colorscale": [
             [
              0,
              "#0d0887"
             ],
             [
              0.1111111111111111,
              "#46039f"
             ],
             [
              0.2222222222222222,
              "#7201a8"
             ],
             [
              0.3333333333333333,
              "#9c179e"
             ],
             [
              0.4444444444444444,
              "#bd3786"
             ],
             [
              0.5555555555555556,
              "#d8576b"
             ],
             [
              0.6666666666666666,
              "#ed7953"
             ],
             [
              0.7777777777777778,
              "#fb9f3a"
             ],
             [
              0.8888888888888888,
              "#fdca26"
             ],
             [
              1,
              "#f0f921"
             ]
            ],
            "type": "heatmap"
           }
          ],
          "heatmapgl": [
           {
            "colorbar": {
             "outlinewidth": 0,
             "ticks": ""
            },
            "colorscale": [
             [
              0,
              "#0d0887"
             ],
             [
              0.1111111111111111,
              "#46039f"
             ],
             [
              0.2222222222222222,
              "#7201a8"
             ],
             [
              0.3333333333333333,
              "#9c179e"
             ],
             [
              0.4444444444444444,
              "#bd3786"
             ],
             [
              0.5555555555555556,
              "#d8576b"
             ],
             [
              0.6666666666666666,
              "#ed7953"
             ],
             [
              0.7777777777777778,
              "#fb9f3a"
             ],
             [
              0.8888888888888888,
              "#fdca26"
             ],
             [
              1,
              "#f0f921"
             ]
            ],
            "type": "heatmapgl"
           }
          ],
          "histogram": [
           {
            "marker": {
             "pattern": {
              "fillmode": "overlay",
              "size": 10,
              "solidity": 0.2
             }
            },
            "type": "histogram"
           }
          ],
          "histogram2d": [
           {
            "colorbar": {
             "outlinewidth": 0,
             "ticks": ""
            },
            "colorscale": [
             [
              0,
              "#0d0887"
             ],
             [
              0.1111111111111111,
              "#46039f"
             ],
             [
              0.2222222222222222,
              "#7201a8"
             ],
             [
              0.3333333333333333,
              "#9c179e"
             ],
             [
              0.4444444444444444,
              "#bd3786"
             ],
             [
              0.5555555555555556,
              "#d8576b"
             ],
             [
              0.6666666666666666,
              "#ed7953"
             ],
             [
              0.7777777777777778,
              "#fb9f3a"
             ],
             [
              0.8888888888888888,
              "#fdca26"
             ],
             [
              1,
              "#f0f921"
             ]
            ],
            "type": "histogram2d"
           }
          ],
          "histogram2dcontour": [
           {
            "colorbar": {
             "outlinewidth": 0,
             "ticks": ""
            },
            "colorscale": [
             [
              0,
              "#0d0887"
             ],
             [
              0.1111111111111111,
              "#46039f"
             ],
             [
              0.2222222222222222,
              "#7201a8"
             ],
             [
              0.3333333333333333,
              "#9c179e"
             ],
             [
              0.4444444444444444,
              "#bd3786"
             ],
             [
              0.5555555555555556,
              "#d8576b"
             ],
             [
              0.6666666666666666,
              "#ed7953"
             ],
             [
              0.7777777777777778,
              "#fb9f3a"
             ],
             [
              0.8888888888888888,
              "#fdca26"
             ],
             [
              1,
              "#f0f921"
             ]
            ],
            "type": "histogram2dcontour"
           }
          ],
          "mesh3d": [
           {
            "colorbar": {
             "outlinewidth": 0,
             "ticks": ""
            },
            "type": "mesh3d"
           }
          ],
          "parcoords": [
           {
            "line": {
             "colorbar": {
              "outlinewidth": 0,
              "ticks": ""
             }
            },
            "type": "parcoords"
           }
          ],
          "pie": [
           {
            "automargin": true,
            "type": "pie"
           }
          ],
          "scatter": [
           {
            "fillpattern": {
             "fillmode": "overlay",
             "size": 10,
             "solidity": 0.2
            },
            "type": "scatter"
           }
          ],
          "scatter3d": [
           {
            "line": {
             "colorbar": {
              "outlinewidth": 0,
              "ticks": ""
             }
            },
            "marker": {
             "colorbar": {
              "outlinewidth": 0,
              "ticks": ""
             }
            },
            "type": "scatter3d"
           }
          ],
          "scattercarpet": [
           {
            "marker": {
             "colorbar": {
              "outlinewidth": 0,
              "ticks": ""
             }
            },
            "type": "scattercarpet"
           }
          ],
          "scattergeo": [
           {
            "marker": {
             "colorbar": {
              "outlinewidth": 0,
              "ticks": ""
             }
            },
            "type": "scattergeo"
           }
          ],
          "scattergl": [
           {
            "marker": {
             "colorbar": {
              "outlinewidth": 0,
              "ticks": ""
             }
            },
            "type": "scattergl"
           }
          ],
          "scattermapbox": [
           {
            "marker": {
             "colorbar": {
              "outlinewidth": 0,
              "ticks": ""
             }
            },
            "type": "scattermapbox"
           }
          ],
          "scatterpolar": [
           {
            "marker": {
             "colorbar": {
              "outlinewidth": 0,
              "ticks": ""
             }
            },
            "type": "scatterpolar"
           }
          ],
          "scatterpolargl": [
           {
            "marker": {
             "colorbar": {
              "outlinewidth": 0,
              "ticks": ""
             }
            },
            "type": "scatterpolargl"
           }
          ],
          "scatterternary": [
           {
            "marker": {
             "colorbar": {
              "outlinewidth": 0,
              "ticks": ""
             }
            },
            "type": "scatterternary"
           }
          ],
          "surface": [
           {
            "colorbar": {
             "outlinewidth": 0,
             "ticks": ""
            },
            "colorscale": [
             [
              0,
              "#0d0887"
             ],
             [
              0.1111111111111111,
              "#46039f"
             ],
             [
              0.2222222222222222,
              "#7201a8"
             ],
             [
              0.3333333333333333,
              "#9c179e"
             ],
             [
              0.4444444444444444,
              "#bd3786"
             ],
             [
              0.5555555555555556,
              "#d8576b"
             ],
             [
              0.6666666666666666,
              "#ed7953"
             ],
             [
              0.7777777777777778,
              "#fb9f3a"
             ],
             [
              0.8888888888888888,
              "#fdca26"
             ],
             [
              1,
              "#f0f921"
             ]
            ],
            "type": "surface"
           }
          ],
          "table": [
           {
            "cells": {
             "fill": {
              "color": "#EBF0F8"
             },
             "line": {
              "color": "white"
             }
            },
            "header": {
             "fill": {
              "color": "#C8D4E3"
             },
             "line": {
              "color": "white"
             }
            },
            "type": "table"
           }
          ]
         },
         "layout": {
          "annotationdefaults": {
           "arrowcolor": "#2a3f5f",
           "arrowhead": 0,
           "arrowwidth": 1
          },
          "autotypenumbers": "strict",
          "coloraxis": {
           "colorbar": {
            "outlinewidth": 0,
            "ticks": ""
           }
          },
          "colorscale": {
           "diverging": [
            [
             0,
             "#8e0152"
            ],
            [
             0.1,
             "#c51b7d"
            ],
            [
             0.2,
             "#de77ae"
            ],
            [
             0.3,
             "#f1b6da"
            ],
            [
             0.4,
             "#fde0ef"
            ],
            [
             0.5,
             "#f7f7f7"
            ],
            [
             0.6,
             "#e6f5d0"
            ],
            [
             0.7,
             "#b8e186"
            ],
            [
             0.8,
             "#7fbc41"
            ],
            [
             0.9,
             "#4d9221"
            ],
            [
             1,
             "#276419"
            ]
           ],
           "sequential": [
            [
             0,
             "#0d0887"
            ],
            [
             0.1111111111111111,
             "#46039f"
            ],
            [
             0.2222222222222222,
             "#7201a8"
            ],
            [
             0.3333333333333333,
             "#9c179e"
            ],
            [
             0.4444444444444444,
             "#bd3786"
            ],
            [
             0.5555555555555556,
             "#d8576b"
            ],
            [
             0.6666666666666666,
             "#ed7953"
            ],
            [
             0.7777777777777778,
             "#fb9f3a"
            ],
            [
             0.8888888888888888,
             "#fdca26"
            ],
            [
             1,
             "#f0f921"
            ]
           ],
           "sequentialminus": [
            [
             0,
             "#0d0887"
            ],
            [
             0.1111111111111111,
             "#46039f"
            ],
            [
             0.2222222222222222,
             "#7201a8"
            ],
            [
             0.3333333333333333,
             "#9c179e"
            ],
            [
             0.4444444444444444,
             "#bd3786"
            ],
            [
             0.5555555555555556,
             "#d8576b"
            ],
            [
             0.6666666666666666,
             "#ed7953"
            ],
            [
             0.7777777777777778,
             "#fb9f3a"
            ],
            [
             0.8888888888888888,
             "#fdca26"
            ],
            [
             1,
             "#f0f921"
            ]
           ]
          },
          "colorway": [
           "#636efa",
           "#EF553B",
           "#00cc96",
           "#ab63fa",
           "#FFA15A",
           "#19d3f3",
           "#FF6692",
           "#B6E880",
           "#FF97FF",
           "#FECB52"
          ],
          "font": {
           "color": "#2a3f5f"
          },
          "geo": {
           "bgcolor": "white",
           "lakecolor": "white",
           "landcolor": "#E5ECF6",
           "showlakes": true,
           "showland": true,
           "subunitcolor": "white"
          },
          "hoverlabel": {
           "align": "left"
          },
          "hovermode": "closest",
          "mapbox": {
           "style": "light"
          },
          "paper_bgcolor": "white",
          "plot_bgcolor": "#E5ECF6",
          "polar": {
           "angularaxis": {
            "gridcolor": "white",
            "linecolor": "white",
            "ticks": ""
           },
           "bgcolor": "#E5ECF6",
           "radialaxis": {
            "gridcolor": "white",
            "linecolor": "white",
            "ticks": ""
           }
          },
          "scene": {
           "xaxis": {
            "backgroundcolor": "#E5ECF6",
            "gridcolor": "white",
            "gridwidth": 2,
            "linecolor": "white",
            "showbackground": true,
            "ticks": "",
            "zerolinecolor": "white"
           },
           "yaxis": {
            "backgroundcolor": "#E5ECF6",
            "gridcolor": "white",
            "gridwidth": 2,
            "linecolor": "white",
            "showbackground": true,
            "ticks": "",
            "zerolinecolor": "white"
           },
           "zaxis": {
            "backgroundcolor": "#E5ECF6",
            "gridcolor": "white",
            "gridwidth": 2,
            "linecolor": "white",
            "showbackground": true,
            "ticks": "",
            "zerolinecolor": "white"
           }
          },
          "shapedefaults": {
           "line": {
            "color": "#2a3f5f"
           }
          },
          "ternary": {
           "aaxis": {
            "gridcolor": "white",
            "linecolor": "white",
            "ticks": ""
           },
           "baxis": {
            "gridcolor": "white",
            "linecolor": "white",
            "ticks": ""
           },
           "bgcolor": "#E5ECF6",
           "caxis": {
            "gridcolor": "white",
            "linecolor": "white",
            "ticks": ""
           }
          },
          "title": {
           "x": 0.05
          },
          "xaxis": {
           "automargin": true,
           "gridcolor": "white",
           "linecolor": "white",
           "ticks": "",
           "title": {
            "standoff": 15
           },
           "zerolinecolor": "white",
           "zerolinewidth": 2
          },
          "yaxis": {
           "automargin": true,
           "gridcolor": "white",
           "linecolor": "white",
           "ticks": "",
           "title": {
            "standoff": 15
           },
           "zerolinecolor": "white",
           "zerolinewidth": 2
          }
         }
        },
        "xaxis": {
         "anchor": "y",
         "domain": [
          0,
          1
         ],
         "title": {
          "text": "delta"
         }
        },
        "yaxis": {
         "anchor": "x",
         "domain": [
          0,
          1
         ],
         "title": {
          "text": "len"
         }
        }
       }
      }
     },
     "metadata": {},
     "output_type": "display_data"
    }
   ],
   "source": [
    "px.line(\n",
    "    state_values.with_columns((pl.col(\"value_is\") - pl.col(\"value_wis\")).alias(\"delta\"))\n",
    "    .group_by(pl.col(\"delta\").round(2))\n",
    "    .len()\n",
    "    .sort(\"delta\"),\n",
    "    x=\"delta\",\n",
    "    y=\"len\",\n",
    ")\n"
   ]
  },
  {
   "cell_type": "code",
   "execution_count": null,
   "metadata": {},
   "outputs": [],
   "source": []
  }
 ],
 "metadata": {
  "kernelspec": {
   "display_name": "reinforcement-learning-PbRn6gH6-py3.12",
   "language": "python",
   "name": "python3"
  },
  "language_info": {
   "codemirror_mode": {
    "name": "ipython",
    "version": 3
   },
   "file_extension": ".py",
   "mimetype": "text/x-python",
   "name": "python",
   "nbconvert_exporter": "python",
   "pygments_lexer": "ipython3",
   "version": "3.12.5"
  }
 },
 "nbformat": 4,
 "nbformat_minor": 2
}
